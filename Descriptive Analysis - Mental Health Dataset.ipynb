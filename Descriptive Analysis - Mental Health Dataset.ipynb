{
 "cells": [
  {
   "cell_type": "markdown",
   "id": "c331916d",
   "metadata": {},
   "source": [
    "## 1. Import Dataset\n",
    "\n",
    "Mental Health in Tech Survey \n",
    "https://www.kaggle.com/osmi/mental-health-in-tech-survey"
   ]
  },
  {
   "cell_type": "code",
   "execution_count": 2,
   "id": "48036609",
   "metadata": {},
   "outputs": [
    {
     "data": {
      "text/html": [
       "<div>\n",
       "<style scoped>\n",
       "    .dataframe tbody tr th:only-of-type {\n",
       "        vertical-align: middle;\n",
       "    }\n",
       "\n",
       "    .dataframe tbody tr th {\n",
       "        vertical-align: top;\n",
       "    }\n",
       "\n",
       "    .dataframe thead th {\n",
       "        text-align: right;\n",
       "    }\n",
       "</style>\n",
       "<table border=\"1\" class=\"dataframe\">\n",
       "  <thead>\n",
       "    <tr style=\"text-align: right;\">\n",
       "      <th></th>\n",
       "      <th>Timestamp</th>\n",
       "      <th>Age</th>\n",
       "      <th>Gender</th>\n",
       "      <th>Country</th>\n",
       "      <th>state</th>\n",
       "      <th>self_employed</th>\n",
       "      <th>family_history</th>\n",
       "      <th>treatment</th>\n",
       "      <th>work_interfere</th>\n",
       "      <th>no_employees</th>\n",
       "      <th>...</th>\n",
       "      <th>leave</th>\n",
       "      <th>mental_health_consequence</th>\n",
       "      <th>phys_health_consequence</th>\n",
       "      <th>coworkers</th>\n",
       "      <th>supervisor</th>\n",
       "      <th>mental_health_interview</th>\n",
       "      <th>phys_health_interview</th>\n",
       "      <th>mental_vs_physical</th>\n",
       "      <th>obs_consequence</th>\n",
       "      <th>comments</th>\n",
       "    </tr>\n",
       "  </thead>\n",
       "  <tbody>\n",
       "    <tr>\n",
       "      <th>0</th>\n",
       "      <td>2014-08-27 11:29:31</td>\n",
       "      <td>37</td>\n",
       "      <td>Female</td>\n",
       "      <td>United States</td>\n",
       "      <td>IL</td>\n",
       "      <td>NaN</td>\n",
       "      <td>No</td>\n",
       "      <td>Yes</td>\n",
       "      <td>Often</td>\n",
       "      <td>6-25</td>\n",
       "      <td>...</td>\n",
       "      <td>Somewhat easy</td>\n",
       "      <td>No</td>\n",
       "      <td>No</td>\n",
       "      <td>Some of them</td>\n",
       "      <td>Yes</td>\n",
       "      <td>No</td>\n",
       "      <td>Maybe</td>\n",
       "      <td>Yes</td>\n",
       "      <td>No</td>\n",
       "      <td>NaN</td>\n",
       "    </tr>\n",
       "    <tr>\n",
       "      <th>1</th>\n",
       "      <td>2014-08-27 11:29:37</td>\n",
       "      <td>44</td>\n",
       "      <td>M</td>\n",
       "      <td>United States</td>\n",
       "      <td>IN</td>\n",
       "      <td>NaN</td>\n",
       "      <td>No</td>\n",
       "      <td>No</td>\n",
       "      <td>Rarely</td>\n",
       "      <td>More than 1000</td>\n",
       "      <td>...</td>\n",
       "      <td>Don't know</td>\n",
       "      <td>Maybe</td>\n",
       "      <td>No</td>\n",
       "      <td>No</td>\n",
       "      <td>No</td>\n",
       "      <td>No</td>\n",
       "      <td>No</td>\n",
       "      <td>Don't know</td>\n",
       "      <td>No</td>\n",
       "      <td>NaN</td>\n",
       "    </tr>\n",
       "    <tr>\n",
       "      <th>2</th>\n",
       "      <td>2014-08-27 11:29:44</td>\n",
       "      <td>32</td>\n",
       "      <td>Male</td>\n",
       "      <td>Canada</td>\n",
       "      <td>NaN</td>\n",
       "      <td>NaN</td>\n",
       "      <td>No</td>\n",
       "      <td>No</td>\n",
       "      <td>Rarely</td>\n",
       "      <td>6-25</td>\n",
       "      <td>...</td>\n",
       "      <td>Somewhat difficult</td>\n",
       "      <td>No</td>\n",
       "      <td>No</td>\n",
       "      <td>Yes</td>\n",
       "      <td>Yes</td>\n",
       "      <td>Yes</td>\n",
       "      <td>Yes</td>\n",
       "      <td>No</td>\n",
       "      <td>No</td>\n",
       "      <td>NaN</td>\n",
       "    </tr>\n",
       "    <tr>\n",
       "      <th>3</th>\n",
       "      <td>2014-08-27 11:29:46</td>\n",
       "      <td>31</td>\n",
       "      <td>Male</td>\n",
       "      <td>United Kingdom</td>\n",
       "      <td>NaN</td>\n",
       "      <td>NaN</td>\n",
       "      <td>Yes</td>\n",
       "      <td>Yes</td>\n",
       "      <td>Often</td>\n",
       "      <td>26-100</td>\n",
       "      <td>...</td>\n",
       "      <td>Somewhat difficult</td>\n",
       "      <td>Yes</td>\n",
       "      <td>Yes</td>\n",
       "      <td>Some of them</td>\n",
       "      <td>No</td>\n",
       "      <td>Maybe</td>\n",
       "      <td>Maybe</td>\n",
       "      <td>No</td>\n",
       "      <td>Yes</td>\n",
       "      <td>NaN</td>\n",
       "    </tr>\n",
       "    <tr>\n",
       "      <th>4</th>\n",
       "      <td>2014-08-27 11:30:22</td>\n",
       "      <td>31</td>\n",
       "      <td>Male</td>\n",
       "      <td>United States</td>\n",
       "      <td>TX</td>\n",
       "      <td>NaN</td>\n",
       "      <td>No</td>\n",
       "      <td>No</td>\n",
       "      <td>Never</td>\n",
       "      <td>100-500</td>\n",
       "      <td>...</td>\n",
       "      <td>Don't know</td>\n",
       "      <td>No</td>\n",
       "      <td>No</td>\n",
       "      <td>Some of them</td>\n",
       "      <td>Yes</td>\n",
       "      <td>Yes</td>\n",
       "      <td>Yes</td>\n",
       "      <td>Don't know</td>\n",
       "      <td>No</td>\n",
       "      <td>NaN</td>\n",
       "    </tr>\n",
       "  </tbody>\n",
       "</table>\n",
       "<p>5 rows × 27 columns</p>\n",
       "</div>"
      ],
      "text/plain": [
       "             Timestamp  Age  Gender         Country state self_employed  \\\n",
       "0  2014-08-27 11:29:31   37  Female   United States    IL           NaN   \n",
       "1  2014-08-27 11:29:37   44       M   United States    IN           NaN   \n",
       "2  2014-08-27 11:29:44   32    Male          Canada   NaN           NaN   \n",
       "3  2014-08-27 11:29:46   31    Male  United Kingdom   NaN           NaN   \n",
       "4  2014-08-27 11:30:22   31    Male   United States    TX           NaN   \n",
       "\n",
       "  family_history treatment work_interfere    no_employees  ...  \\\n",
       "0             No       Yes          Often            6-25  ...   \n",
       "1             No        No         Rarely  More than 1000  ...   \n",
       "2             No        No         Rarely            6-25  ...   \n",
       "3            Yes       Yes          Often          26-100  ...   \n",
       "4             No        No          Never         100-500  ...   \n",
       "\n",
       "                leave mental_health_consequence phys_health_consequence  \\\n",
       "0       Somewhat easy                        No                      No   \n",
       "1          Don't know                     Maybe                      No   \n",
       "2  Somewhat difficult                        No                      No   \n",
       "3  Somewhat difficult                       Yes                     Yes   \n",
       "4          Don't know                        No                      No   \n",
       "\n",
       "      coworkers supervisor mental_health_interview phys_health_interview  \\\n",
       "0  Some of them        Yes                      No                 Maybe   \n",
       "1            No         No                      No                    No   \n",
       "2           Yes        Yes                     Yes                   Yes   \n",
       "3  Some of them         No                   Maybe                 Maybe   \n",
       "4  Some of them        Yes                     Yes                   Yes   \n",
       "\n",
       "  mental_vs_physical obs_consequence comments  \n",
       "0                Yes              No      NaN  \n",
       "1         Don't know              No      NaN  \n",
       "2                 No              No      NaN  \n",
       "3                 No             Yes      NaN  \n",
       "4         Don't know              No      NaN  \n",
       "\n",
       "[5 rows x 27 columns]"
      ]
     },
     "execution_count": 2,
     "metadata": {},
     "output_type": "execute_result"
    }
   ],
   "source": [
    "# TODO: Import data set\n",
    "import numpy as np\n",
    "import pandas as pd\n",
    "from matplotlib import pyplot as plt\n",
    "mh_df = pd.read_csv(\"./data/survey.csv\")\n",
    "mh_df.head()"
   ]
  },
  {
   "cell_type": "code",
   "execution_count": 3,
   "id": "e8addbe1",
   "metadata": {},
   "outputs": [
    {
     "data": {
      "text/plain": [
       "(1259, 27)"
      ]
     },
     "execution_count": 3,
     "metadata": {},
     "output_type": "execute_result"
    }
   ],
   "source": [
    "# Check the nubmer of rows and columns\n",
    "mh_df.shape"
   ]
  },
  {
   "cell_type": "code",
   "execution_count": 4,
   "id": "671bcf52",
   "metadata": {},
   "outputs": [
    {
     "data": {
      "text/plain": [
       "Timestamp                    object\n",
       "Age                           int64\n",
       "Gender                       object\n",
       "Country                      object\n",
       "state                        object\n",
       "self_employed                object\n",
       "family_history               object\n",
       "treatment                    object\n",
       "work_interfere               object\n",
       "no_employees                 object\n",
       "remote_work                  object\n",
       "tech_company                 object\n",
       "benefits                     object\n",
       "care_options                 object\n",
       "wellness_program             object\n",
       "seek_help                    object\n",
       "anonymity                    object\n",
       "leave                        object\n",
       "mental_health_consequence    object\n",
       "phys_health_consequence      object\n",
       "coworkers                    object\n",
       "supervisor                   object\n",
       "mental_health_interview      object\n",
       "phys_health_interview        object\n",
       "mental_vs_physical           object\n",
       "obs_consequence              object\n",
       "comments                     object\n",
       "dtype: object"
      ]
     },
     "execution_count": 4,
     "metadata": {},
     "output_type": "execute_result"
    }
   ],
   "source": [
    "# Check the data types\n",
    "mh_df.dtypes"
   ]
  },
  {
   "cell_type": "code",
   "execution_count": 5,
   "id": "ca5bb8d7",
   "metadata": {},
   "outputs": [
    {
     "data": {
      "text/plain": [
       "Index(['timestamp', 'age', 'gender', 'country', 'state', 'self_employed',\n",
       "       'family_history', 'treatment', 'work_interfere', 'no_employees',\n",
       "       'remote_work', 'tech_company', 'benefits', 'care_options',\n",
       "       'wellness_program', 'seek_help', 'anonymity', 'leave',\n",
       "       'mental_health_consequence', 'phys_health_consequence', 'coworkers',\n",
       "       'supervisor', 'mental_health_interview', 'phys_health_interview',\n",
       "       'mental_vs_physical', 'obs_consequence', 'comments'],\n",
       "      dtype='object')"
      ]
     },
     "execution_count": 5,
     "metadata": {},
     "output_type": "execute_result"
    }
   ],
   "source": [
    "# Change some column names\n",
    "mh_df.rename(columns={\"Timestamp\":\"timestamp\", \"Age\": \"age\", \"Gender\": \"gender\", \"Country\": \"country\"}, inplace=True)\n",
    "mh_df.columns"
   ]
  },
  {
   "cell_type": "markdown",
   "id": "4da02c5e",
   "metadata": {},
   "source": [
    "## 2. Data cleaning"
   ]
  },
  {
   "cell_type": "markdown",
   "id": "b27b693b",
   "metadata": {},
   "source": [
    "1) Change Gender values"
   ]
  },
  {
   "cell_type": "code",
   "execution_count": 6,
   "id": "286bb992",
   "metadata": {
    "scrolled": false
   },
   "outputs": [
    {
     "name": "stdout",
     "output_type": "stream",
     "text": [
      "Male                                              615\n",
      "male                                              206\n",
      "Female                                            121\n",
      "M                                                 116\n",
      "female                                             62\n",
      "F                                                  38\n",
      "m                                                  34\n",
      "f                                                  15\n",
      "Make                                                4\n",
      "Male                                                3\n",
      "Woman                                               3\n",
      "Cis Male                                            2\n",
      "Man                                                 2\n",
      "Female (trans)                                      2\n",
      "Female                                              2\n",
      "Trans woman                                         1\n",
      "msle                                                1\n",
      "male leaning androgynous                            1\n",
      "Neuter                                              1\n",
      "cis male                                            1\n",
      "queer                                               1\n",
      "Female (cis)                                        1\n",
      "Mail                                                1\n",
      "cis-female/femme                                    1\n",
      "A little about you                                  1\n",
      "Malr                                                1\n",
      "p                                                   1\n",
      "femail                                              1\n",
      "Cis Man                                             1\n",
      "Guy (-ish) ^_^                                      1\n",
      "Enby                                                1\n",
      "Agender                                             1\n",
      "Androgyne                                           1\n",
      "Male-ish                                            1\n",
      "maile                                               1\n",
      "Trans-female                                        1\n",
      "Cis Female                                          1\n",
      "something kinda male?                               1\n",
      "Mal                                                 1\n",
      "Male (CIS)                                          1\n",
      "queer/she/they                                      1\n",
      "non-binary                                          1\n",
      "Femake                                              1\n",
      "woman                                               1\n",
      "Nah                                                 1\n",
      "All                                                 1\n",
      "fluid                                               1\n",
      "Genderqueer                                         1\n",
      "ostensibly male, unsure what that really means      1\n",
      "Name: gender, dtype: int64\n"
     ]
    }
   ],
   "source": [
    "# TODO: Cleaning: Male, female string matching\n",
    "# Check Gender values\n",
    "gender = mh_df[\"gender\"].value_counts()\n",
    "print(gender)"
   ]
  },
  {
   "cell_type": "code",
   "execution_count": 7,
   "id": "66070bef",
   "metadata": {},
   "outputs": [
    {
     "name": "stdout",
     "output_type": "stream",
     "text": [
      "Male          990\n",
      "Female        247\n",
      "Non Binary     22\n",
      "Name: new_gender, dtype: int64\n"
     ]
    },
    {
     "data": {
      "text/html": [
       "<div>\n",
       "<style scoped>\n",
       "    .dataframe tbody tr th:only-of-type {\n",
       "        vertical-align: middle;\n",
       "    }\n",
       "\n",
       "    .dataframe tbody tr th {\n",
       "        vertical-align: top;\n",
       "    }\n",
       "\n",
       "    .dataframe thead th {\n",
       "        text-align: right;\n",
       "    }\n",
       "</style>\n",
       "<table border=\"1\" class=\"dataframe\">\n",
       "  <thead>\n",
       "    <tr style=\"text-align: right;\">\n",
       "      <th></th>\n",
       "      <th>timestamp</th>\n",
       "      <th>age</th>\n",
       "      <th>country</th>\n",
       "      <th>state</th>\n",
       "      <th>self_employed</th>\n",
       "      <th>family_history</th>\n",
       "      <th>treatment</th>\n",
       "      <th>work_interfere</th>\n",
       "      <th>no_employees</th>\n",
       "      <th>remote_work</th>\n",
       "      <th>...</th>\n",
       "      <th>mental_health_consequence</th>\n",
       "      <th>phys_health_consequence</th>\n",
       "      <th>coworkers</th>\n",
       "      <th>supervisor</th>\n",
       "      <th>mental_health_interview</th>\n",
       "      <th>phys_health_interview</th>\n",
       "      <th>mental_vs_physical</th>\n",
       "      <th>obs_consequence</th>\n",
       "      <th>comments</th>\n",
       "      <th>gender</th>\n",
       "    </tr>\n",
       "  </thead>\n",
       "  <tbody>\n",
       "    <tr>\n",
       "      <th>0</th>\n",
       "      <td>2014-08-27 11:29:31</td>\n",
       "      <td>37</td>\n",
       "      <td>United States</td>\n",
       "      <td>IL</td>\n",
       "      <td>NaN</td>\n",
       "      <td>No</td>\n",
       "      <td>Yes</td>\n",
       "      <td>Often</td>\n",
       "      <td>6-25</td>\n",
       "      <td>No</td>\n",
       "      <td>...</td>\n",
       "      <td>No</td>\n",
       "      <td>No</td>\n",
       "      <td>Some of them</td>\n",
       "      <td>Yes</td>\n",
       "      <td>No</td>\n",
       "      <td>Maybe</td>\n",
       "      <td>Yes</td>\n",
       "      <td>No</td>\n",
       "      <td>NaN</td>\n",
       "      <td>Female</td>\n",
       "    </tr>\n",
       "    <tr>\n",
       "      <th>1</th>\n",
       "      <td>2014-08-27 11:29:37</td>\n",
       "      <td>44</td>\n",
       "      <td>United States</td>\n",
       "      <td>IN</td>\n",
       "      <td>NaN</td>\n",
       "      <td>No</td>\n",
       "      <td>No</td>\n",
       "      <td>Rarely</td>\n",
       "      <td>More than 1000</td>\n",
       "      <td>No</td>\n",
       "      <td>...</td>\n",
       "      <td>Maybe</td>\n",
       "      <td>No</td>\n",
       "      <td>No</td>\n",
       "      <td>No</td>\n",
       "      <td>No</td>\n",
       "      <td>No</td>\n",
       "      <td>Don't know</td>\n",
       "      <td>No</td>\n",
       "      <td>NaN</td>\n",
       "      <td>Male</td>\n",
       "    </tr>\n",
       "    <tr>\n",
       "      <th>2</th>\n",
       "      <td>2014-08-27 11:29:44</td>\n",
       "      <td>32</td>\n",
       "      <td>Canada</td>\n",
       "      <td>NaN</td>\n",
       "      <td>NaN</td>\n",
       "      <td>No</td>\n",
       "      <td>No</td>\n",
       "      <td>Rarely</td>\n",
       "      <td>6-25</td>\n",
       "      <td>No</td>\n",
       "      <td>...</td>\n",
       "      <td>No</td>\n",
       "      <td>No</td>\n",
       "      <td>Yes</td>\n",
       "      <td>Yes</td>\n",
       "      <td>Yes</td>\n",
       "      <td>Yes</td>\n",
       "      <td>No</td>\n",
       "      <td>No</td>\n",
       "      <td>NaN</td>\n",
       "      <td>Male</td>\n",
       "    </tr>\n",
       "    <tr>\n",
       "      <th>3</th>\n",
       "      <td>2014-08-27 11:29:46</td>\n",
       "      <td>31</td>\n",
       "      <td>United Kingdom</td>\n",
       "      <td>NaN</td>\n",
       "      <td>NaN</td>\n",
       "      <td>Yes</td>\n",
       "      <td>Yes</td>\n",
       "      <td>Often</td>\n",
       "      <td>26-100</td>\n",
       "      <td>No</td>\n",
       "      <td>...</td>\n",
       "      <td>Yes</td>\n",
       "      <td>Yes</td>\n",
       "      <td>Some of them</td>\n",
       "      <td>No</td>\n",
       "      <td>Maybe</td>\n",
       "      <td>Maybe</td>\n",
       "      <td>No</td>\n",
       "      <td>Yes</td>\n",
       "      <td>NaN</td>\n",
       "      <td>Male</td>\n",
       "    </tr>\n",
       "    <tr>\n",
       "      <th>4</th>\n",
       "      <td>2014-08-27 11:30:22</td>\n",
       "      <td>31</td>\n",
       "      <td>United States</td>\n",
       "      <td>TX</td>\n",
       "      <td>NaN</td>\n",
       "      <td>No</td>\n",
       "      <td>No</td>\n",
       "      <td>Never</td>\n",
       "      <td>100-500</td>\n",
       "      <td>Yes</td>\n",
       "      <td>...</td>\n",
       "      <td>No</td>\n",
       "      <td>No</td>\n",
       "      <td>Some of them</td>\n",
       "      <td>Yes</td>\n",
       "      <td>Yes</td>\n",
       "      <td>Yes</td>\n",
       "      <td>Don't know</td>\n",
       "      <td>No</td>\n",
       "      <td>NaN</td>\n",
       "      <td>Male</td>\n",
       "    </tr>\n",
       "  </tbody>\n",
       "</table>\n",
       "<p>5 rows × 27 columns</p>\n",
       "</div>"
      ],
      "text/plain": [
       "             timestamp  age         country state self_employed  \\\n",
       "0  2014-08-27 11:29:31   37   United States    IL           NaN   \n",
       "1  2014-08-27 11:29:37   44   United States    IN           NaN   \n",
       "2  2014-08-27 11:29:44   32          Canada   NaN           NaN   \n",
       "3  2014-08-27 11:29:46   31  United Kingdom   NaN           NaN   \n",
       "4  2014-08-27 11:30:22   31   United States    TX           NaN   \n",
       "\n",
       "  family_history treatment work_interfere    no_employees remote_work  ...  \\\n",
       "0             No       Yes          Often            6-25          No  ...   \n",
       "1             No        No         Rarely  More than 1000          No  ...   \n",
       "2             No        No         Rarely            6-25          No  ...   \n",
       "3            Yes       Yes          Often          26-100          No  ...   \n",
       "4             No        No          Never         100-500         Yes  ...   \n",
       "\n",
       "  mental_health_consequence phys_health_consequence     coworkers supervisor  \\\n",
       "0                        No                      No  Some of them        Yes   \n",
       "1                     Maybe                      No            No         No   \n",
       "2                        No                      No           Yes        Yes   \n",
       "3                       Yes                     Yes  Some of them         No   \n",
       "4                        No                      No  Some of them        Yes   \n",
       "\n",
       "  mental_health_interview phys_health_interview mental_vs_physical  \\\n",
       "0                      No                 Maybe                Yes   \n",
       "1                      No                    No         Don't know   \n",
       "2                     Yes                   Yes                 No   \n",
       "3                   Maybe                 Maybe                 No   \n",
       "4                     Yes                   Yes         Don't know   \n",
       "\n",
       "  obs_consequence comments  gender  \n",
       "0              No      NaN  Female  \n",
       "1              No      NaN    Male  \n",
       "2              No      NaN    Male  \n",
       "3             Yes      NaN    Male  \n",
       "4              No      NaN    Male  \n",
       "\n",
       "[5 rows x 27 columns]"
      ]
     },
     "execution_count": 7,
     "metadata": {},
     "output_type": "execute_result"
    }
   ],
   "source": [
    "# Change Gender names -> Male/Female/Others\n",
    "non_binary = ['A little about you', 'Agender', 'All', 'Androgyne','Enby',\n",
    "          'Female (trans)', 'Genderqueer', 'Guy (-ish) ^_^','Male-ish',\n",
    "          'Nah', 'Neuter', 'Trans woman', 'Trans-female','fluid',\n",
    "          'male leaning androgynous','non-binary',\n",
    "          'ostensibly male, unsure what that really means', 'p', \n",
    "          'queer','queer/she/they', 'something kinda male?']\n",
    "female = ['Cis Female','F', 'Femake', 'Female', 'Female ',\n",
    "          'Female (cis)','Woman','cis-female/femme', 'f', \n",
    "          'femail', 'female','woman']\n",
    "male = ['Cis Male','Cis Man','M','Mail', 'Make', 'Mal', 'Male', 'Male ', 'Male (CIS)',\n",
    "       'Malr', 'Man','cis male','m','maile', 'male','msle']\n",
    "\n",
    "# Replace gender values with Male/Female/Others\n",
    "mh_df.loc[mh_df[\"gender\"].isin(non_binary)==True, \"new_gender\"] = \"Non Binary\"\n",
    "mh_df.loc[mh_df[\"gender\"].isin(female)==True, \"new_gender\"] = \"Female\"\n",
    "mh_df.loc[mh_df[\"gender\"].isin(male)==True, \"new_gender\"] = \"Male\"\n",
    "\n",
    "print(mh_df[\"new_gender\"].value_counts())\n",
    "\n",
    "# Drop the original\"gender\" row\n",
    "mh_df = mh_df.drop(\"gender\", axis=1)\n",
    "\n",
    "# Change the column name to \"gender\"\n",
    "mh_df.rename(columns={\"new_gender\":\"gender\"}, inplace=True)\n",
    "\n",
    "mh_df.head()"
   ]
  },
  {
   "cell_type": "markdown",
   "id": "1f57ce95",
   "metadata": {},
   "source": [
    "2) Check \"age\" values"
   ]
  },
  {
   "cell_type": "code",
   "execution_count": 8,
   "id": "0f126a70",
   "metadata": {},
   "outputs": [
    {
     "name": "stdout",
     "output_type": "stream",
     "text": [
      "=====Before Cleaning=====\n",
      "count    1.259000e+03\n",
      "mean     7.942815e+07\n",
      "std      2.818299e+09\n",
      "min     -1.726000e+03\n",
      "25%      2.700000e+01\n",
      "50%      3.100000e+01\n",
      "75%      3.600000e+01\n",
      "max      1.000000e+11\n",
      "Name: age, dtype: float64\n",
      "[         37          44          32          31          33          35\n",
      "          39          42          23          29          36          27\n",
      "          46          41          34          30          40          38\n",
      "          50          24          18          28          26          22\n",
      "          19          25          45          21         -29          43\n",
      "          56          60          54         329          55 99999999999\n",
      "          48          20          57          58          47          62\n",
      "          51          65          49       -1726           5          53\n",
      "          61           8          11          -1          72]\n",
      "The number of rows with negative or too small age values is 6.\n",
      "The number of rows with >120 age values is 2.\n",
      "\n",
      "\n",
      "=====After Cleaning=====\n",
      "count    1251.000000\n",
      "mean       32.076739\n",
      "std         7.288272\n",
      "min        18.000000\n",
      "25%        27.000000\n",
      "50%        31.000000\n",
      "75%        36.000000\n",
      "max        72.000000\n",
      "Name: age, dtype: float64\n",
      "[37 44 32 31 33 35 39 42 23 29 36 27 46 41 34 30 40 38 50 24 18 28 26 22\n",
      " 19 25 45 21 43 56 60 54 55 48 20 57 58 47 62 51 65 49 53 61 72]\n"
     ]
    }
   ],
   "source": [
    "print(\"=====Before Cleaning=====\")\n",
    "print(mh_df[\"age\"].describe())\n",
    "print(mh_df[\"age\"].unique())\n",
    "\n",
    "# Check the number of rows with negative or too small age values\n",
    "num_negative_ages = (mh_df[\"age\"]<12).sum()\n",
    "print(f\"The number of rows with negative or too small age values is {num_negative_ages}.\")\n",
    "      \n",
    "# Check the number of rows with >120 age values\n",
    "num_over_ages = (mh_df[\"age\"]>120).sum()\n",
    "print(f\"The number of rows with >120 age values is {num_over_ages}.\")\n",
    "\n",
    "# Drop the rows with negative or >120 age values \n",
    "mh_df = mh_df[(mh_df[\"age\"] >= 12)&(mh_df[\"age\"]<=120)]\n",
    "print(\"\\n\")\n",
    "print(\"=====After Cleaning=====\")\n",
    "print(mh_df[\"age\"].describe())\n",
    "print(mh_df[\"age\"].unique())\n",
    "# -> The age values range from 18 to 72"
   ]
  },
  {
   "cell_type": "code",
   "execution_count": 9,
   "id": "941caa2a",
   "metadata": {},
   "outputs": [
    {
     "data": {
      "text/plain": [
       "Text(0.5, 0, 'Age')"
      ]
     },
     "execution_count": 9,
     "metadata": {},
     "output_type": "execute_result"
    },
    {
     "data": {
      "image/png": "[encoded data removed]",
      "text/plain": [
       "<Figure size 432x288 with 1 Axes>"
      ]
     },
     "metadata": {
      "needs_background": "light"
     },
     "output_type": "display_data"
    }
   ],
   "source": [
    "# Check the age distribution in this dataset\n",
    "plt.hist(mh_df[\"age\"], color=\"lightsteelblue\",\n",
    "         edgecolor=\"black\",linewidth=0.5)\n",
    "plt.xlabel(\"Age\")"
   ]
  },
  {
   "cell_type": "markdown",
   "id": "dec4a107",
   "metadata": {},
   "source": [
    "3) Handle missing values"
   ]
  },
  {
   "cell_type": "code",
   "execution_count": 10,
   "id": "f2651377",
   "metadata": {},
   "outputs": [
    {
     "data": {
      "text/plain": [
       "timestamp                       0\n",
       "age                             0\n",
       "country                         0\n",
       "state                         513\n",
       "self_employed                  18\n",
       "family_history                  0\n",
       "treatment                       0\n",
       "work_interfere                262\n",
       "no_employees                    0\n",
       "remote_work                     0\n",
       "tech_company                    0\n",
       "benefits                        0\n",
       "care_options                    0\n",
       "wellness_program                0\n",
       "seek_help                       0\n",
       "anonymity                       0\n",
       "leave                           0\n",
       "mental_health_consequence       0\n",
       "phys_health_consequence         0\n",
       "coworkers                       0\n",
       "supervisor                      0\n",
       "mental_health_interview         0\n",
       "phys_health_interview           0\n",
       "mental_vs_physical              0\n",
       "obs_consequence                 0\n",
       "comments                     1090\n",
       "gender                          0\n",
       "dtype: int64"
      ]
     },
     "execution_count": 10,
     "metadata": {},
     "output_type": "execute_result"
    }
   ],
   "source": [
    "# TODO: Cleaning: Handle missing values\n",
    "# Check the number of missing values in each column\n",
    "mh_df.isnull().sum()"
   ]
  },
  {
   "cell_type": "code",
   "execution_count": 11,
   "id": "559a5f63",
   "metadata": {},
   "outputs": [
    {
     "name": "stdout",
     "output_type": "stream",
     "text": [
      "===== self_employed =====\n",
      "['No Answer' 'Yes' 'No']\n",
      "\n",
      "\n",
      "===== work_interfere =====\n",
      "['Often' 'Rarely' 'Never' 'Sometimes' 'No Answer']\n"
     ]
    }
   ],
   "source": [
    "# Replace missing values with \"No Answer\"\n",
    "mh_df = mh_df.fillna({\"self_employed\":\"No Answer\", \"work_interfere\":\"No Answer\", \"comments\":\"No Answer\"})\n",
    "print(\"===== self_employed =====\")\n",
    "print(mh_df[\"self_employed\"].unique())\n",
    "\n",
    "print(\"\\n\")\n",
    "print(\"===== work_interfere =====\")\n",
    "print(mh_df[\"work_interfere\"].unique())"
   ]
  },
  {
   "cell_type": "code",
   "execution_count": 12,
   "id": "0ba550b0",
   "metadata": {},
   "outputs": [
    {
     "name": "stdout",
     "output_type": "stream",
     "text": [
      "['1_Often' '3_Rarely' '4_Never' '2_Sometimes' '5_No Answer']\n"
     ]
    }
   ],
   "source": [
    "# Change the name of \"work_interfere\" values\n",
    "mh_df = mh_df.replace({\"work_interfere\":{\"Often\":\"1_Often\", \"Sometimes\":\"2_Sometimes\", \n",
    "                                \"Rarely\":\"3_Rarely\", \"Never\":\"4_Never\", \"No Answer\":\"5_No Answer\"}})  \n",
    "print(mh_df[\"work_interfere\"].unique())"
   ]
  },
  {
   "cell_type": "markdown",
   "id": "8f469419",
   "metadata": {},
   "source": [
    "## 3. Distribution of the target variable"
   ]
  },
  {
   "cell_type": "code",
   "execution_count": 13,
   "id": "956b4bbe",
   "metadata": {},
   "outputs": [
    {
     "name": "stdout",
     "output_type": "stream",
     "text": [
      "===== treatment =====\n",
      "Yes    632\n",
      "No     619\n",
      "Name: treatment, dtype: int64\n",
      "\n",
      "\n",
      "===== work_interfere =====\n",
      "1_Often        140\n",
      "2_Sometimes    464\n",
      "3_Rarely       173\n",
      "4_Never        212\n",
      "5_No Answer    262\n",
      "Name: work_interfere, dtype: int64\n"
     ]
    }
   ],
   "source": [
    "# TODO: Distribution of the target variable\n",
    "# Distribution of \"treatment\" (\"Have you sought treatment for a mental health condition?\")\n",
    "print(\"===== treatment =====\")\n",
    "print(mh_df[\"treatment\"].value_counts())\n",
    "print(\"\\n\")\n",
    "# Distribution of \"work_interfere\" (\"If you have a mental health condition, do you feel that it interferes with your work?\")\n",
    "print(\"===== work_interfere =====\")\n",
    "print(mh_df[\"work_interfere\"].value_counts().sort_index())\n"
   ]
  },
  {
   "cell_type": "code",
   "execution_count": 14,
   "id": "8845b8ca",
   "metadata": {},
   "outputs": [
    {
     "name": "stdout",
     "output_type": "stream",
     "text": [
      "Yes    632\n",
      "No     619\n",
      "Name: treatment, dtype: int64\n"
     ]
    },
    {
     "data": {
      "image/png": "[encoded data removed]",
      "text/plain": [
       "<Figure size 432x288 with 1 Axes>"
      ]
     },
     "metadata": {
      "needs_background": "light"
     },
     "output_type": "display_data"
    }
   ],
   "source": [
    "treatment = mh_df[\"treatment\"].value_counts()\n",
    "print(treatment)\n",
    "plt.bar(treatment.index, treatment.values, color=\"lightsteelblue\",\n",
    "       edgecolor=\"black\",linewidth=0.5)\n",
    "plt.xlabel(\"Treatment\")\n",
    "plt.ylabel(\"Number of respondents\")\n",
    "plt.show()"
   ]
  },
  {
   "cell_type": "markdown",
   "id": "600d835d",
   "metadata": {},
   "source": [
    "- This dataset has no information on whether each respondent currently has a mental health issue or not. (The variable \"treatment\" indicates whether workers have sought treatment for a mental health condition or not. It does not tell about the current health condition.)"
   ]
  },
  {
   "cell_type": "code",
   "execution_count": 15,
   "id": "e9487078",
   "metadata": {},
   "outputs": [
    {
     "data": {
      "image/png": "[encoded data removed]",
      "text/plain": [
       "<Figure size 432x288 with 1 Axes>"
      ]
     },
     "metadata": {
      "needs_background": "light"
     },
     "output_type": "display_data"
    }
   ],
   "source": [
    "from matplotlib import pyplot as plt\n",
    "\n",
    "work_interfere = mh_df[\"work_interfere\"].value_counts().sort_index()\n",
    "plt.bar(work_interfere.index, work_interfere.values, color=\"lightsteelblue\",\n",
    "       edgecolor=\"black\",linewidth=0.5)\n",
    "plt.xlabel(\"work_interfere\")\n",
    "plt.ylabel(\"Number of respondents\")\n",
    "plt.show()"
   ]
  },
  {
   "cell_type": "markdown",
   "id": "27a82c78",
   "metadata": {},
   "source": [
    "## 4. Relationship between the target variable and the other features"
   ]
  },
  {
   "cell_type": "code",
   "execution_count": 16,
   "id": "7267eae3",
   "metadata": {},
   "outputs": [
    {
     "name": "stdout",
     "output_type": "stream",
     "text": [
      "==Age distributino of treat_yes==\n",
      "count    632.000000\n",
      "mean      32.607595\n",
      "std        7.558193\n",
      "min       18.000000\n",
      "25%       27.000000\n",
      "50%       32.000000\n",
      "75%       37.000000\n",
      "max       72.000000\n",
      "Name: age, dtype: float64\n",
      "\n",
      "\n",
      "==Age distributino of treat_no==\n",
      "count    619.000000\n",
      "mean      31.534733\n",
      "std        6.966401\n",
      "min       18.000000\n",
      "25%       27.000000\n",
      "50%       31.000000\n",
      "75%       35.000000\n",
      "max       65.000000\n",
      "Name: age, dtype: float64\n"
     ]
    },
    {
     "data": {
      "text/plain": [
       "Text(0, 0.5, 'Age')"
      ]
     },
     "execution_count": 16,
     "metadata": {},
     "output_type": "execute_result"
    },
    {
     "data": {
      "image/png": "[encoded data removed]",
      "text/plain": [
       "<Figure size 432x288 with 1 Axes>"
      ]
     },
     "metadata": {
      "needs_background": "light"
     },
     "output_type": "display_data"
    }
   ],
   "source": [
    "# Relationship between \"treatment\" and \"age\"\n",
    "treat_yes = mh_df[mh_df[\"treatment\"] == \"Yes\"][\"age\"]\n",
    "treat_no = mh_df[mh_df[\"treatment\"] == \"No\"][\"age\"]\n",
    "\n",
    "print(\"==Age distributino of treat_yes==\")\n",
    "print(treat_yes.describe())\n",
    "print(\"\\n\")\n",
    "print(\"==Age distributino of treat_no==\")\n",
    "print(treat_no.describe())\n",
    "\n",
    "plt.boxplot([treat_yes,treat_no], labels = [\"Yes\", \"No\"])\n",
    "plt.xlabel(\"Treatment\")\n",
    "plt.ylabel(\"Age\")"
   ]
  },
  {
   "cell_type": "code",
   "execution_count": 17,
   "id": "80185f26",
   "metadata": {},
   "outputs": [],
   "source": [
    "# Define a function creating a bar chart (relationship between \"treatment\" and one features)  \n",
    "def relation_bar_chart(df, feature_name, label_name):\n",
    "    graph = mh_df.groupby(feature_name)[label_name].value_counts().sort_index()\n",
    "    graph.unstack().plot.bar(color=[\"lightsteelblue\",\"salmon\"],\n",
    "                                     edgecolor=\"black\",linewidth=0.5)"
   ]
  },
  {
   "cell_type": "code",
   "execution_count": 18,
   "id": "bd341bef",
   "metadata": {},
   "outputs": [
    {
     "name": "stdout",
     "output_type": "stream",
     "text": [
      "Male          985\n",
      "Female        247\n",
      "Non Binary     19\n",
      "Name: gender, dtype: int64\n"
     ]
    },
    {
     "data": {
      "image/png": "[encoded data removed]",
      "text/plain": [
       "<Figure size 432x288 with 1 Axes>"
      ]
     },
     "metadata": {
      "needs_background": "light"
     },
     "output_type": "display_data"
    }
   ],
   "source": [
    "# Relationship between \"treatment\" and \"gender\"\n",
    "print(mh_df[\"gender\"].value_counts())\n",
    "\n",
    "relation_bar_chart(mh_df, \"gender\", \"treatment\")"
   ]
  },
  {
   "cell_type": "markdown",
   "id": "4f78e8ab",
   "metadata": {},
   "source": [
    "- Mental health issues are more common among \"Female\" and \"Non Binary\" than \"Male\". "
   ]
  },
  {
   "cell_type": "code",
   "execution_count": 19,
   "id": "1de0bf39",
   "metadata": {},
   "outputs": [
    {
     "name": "stdout",
     "output_type": "stream",
     "text": [
      "6-25              289\n",
      "26-100            288\n",
      "More than 1000    281\n",
      "100-500           175\n",
      "1-5               158\n",
      "500-1000           60\n",
      "Name: no_employees, dtype: int64\n"
     ]
    },
    {
     "data": {
      "image/png": "[encoded data removed]",
      "text/plain": [
       "<Figure size 432x288 with 1 Axes>"
      ]
     },
     "metadata": {
      "needs_background": "light"
     },
     "output_type": "display_data"
    }
   ],
   "source": [
    "# Relationship company size (number of employees) and treatment\n",
    "print(mh_df[\"no_employees\"].value_counts())\n",
    "\n",
    "relation_bar_chart(mh_df, \"no_employees\", \"treatment\")"
   ]
  },
  {
   "cell_type": "markdown",
   "id": "c9b6f976",
   "metadata": {},
   "source": [
    "- There seems no relationship between company size and \"treatment\""
   ]
  },
  {
   "cell_type": "code",
   "execution_count": 20,
   "id": "ed59f9cb",
   "metadata": {},
   "outputs": [
    {
     "data": {
      "image/png": "[encoded data removed]",
      "text/plain": [
       "<Figure size 432x288 with 1 Axes>"
      ]
     },
     "metadata": {
      "needs_background": "light"
     },
     "output_type": "display_data"
    }
   ],
   "source": [
    "# Relationship between \"treatment\" and \"work_interfere\"\n",
    "int_and_treatment = mh_df.groupby(\"work_interfere\")[\"treatment\"].value_counts().sort_index()\n",
    "\n",
    "relation_bar_chart(mh_df, \"work_interfere\", \"treatment\")"
   ]
  },
  {
   "cell_type": "markdown",
   "id": "9077d70d",
   "metadata": {},
   "source": [
    "Research question1:  \n",
    "- Employees who are willing to share mental health problems with others are less likely to have productivity issues in their workplace. \n",
    "    Willingness to share the issues: \"coworkers\", \"supervisor\"\n",
    "    Workplace issue: \"work_interfere\""
   ]
  },
  {
   "cell_type": "code",
   "execution_count": 21,
   "id": "9cc10560",
   "metadata": {},
   "outputs": [],
   "source": [
    "# Define a function creating a stacked bar chart\n",
    "def create_bar_chart(feature, label):\n",
    "    # Create a 2x2 table with a feature and a label\n",
    "    cross = pd.crosstab(feature,label,normalize=\"index\")\n",
    "     \n",
    "    # Designate colors\n",
    "    cmap = plt.get_cmap(\"Blues\")\n",
    "    colors = []\n",
    "    for i in range(len(label.unique())):\n",
    "        colors += [cmap(i/(len(label.unique())))]\n",
    "        i += 1\n",
    "    \n",
    "    # Plot a stacked bar chart\n",
    "    cross.plot.bar(stacked=True, color=colors, edgecolor=\"black\",linewidth=0.5)    \n",
    "    plt.ylabel(\"Proportion of respondents\")\n",
    "    plt.legend(loc=\"upper left\", fontsize=9)"
   ]
  },
  {
   "cell_type": "code",
   "execution_count": 22,
   "id": "3f16bdc5",
   "metadata": {},
   "outputs": [
    {
     "name": "stdout",
     "output_type": "stream",
     "text": [
      "Some of them    771\n",
      "No              258\n",
      "Yes             222\n",
      "Name: coworkers, dtype: int64\n"
     ]
    },
    {
     "data": {
      "image/png": "[encoded data removed]",
      "text/plain": [
       "<Figure size 432x288 with 1 Axes>"
      ]
     },
     "metadata": {
      "needs_background": "light"
     },
     "output_type": "display_data"
    }
   ],
   "source": [
    "# Relationship between \"coworkers\" and \"work_interfere\"\n",
    "print(mh_df[\"coworkers\"].value_counts())\n",
    "create_bar_chart(mh_df[\"coworkers\"],mh_df[\"work_interfere\"])"
   ]
  },
  {
   "cell_type": "markdown",
   "id": "8b614095",
   "metadata": {},
   "source": [
    "- There seems no relationship between \"work_interfere\" and employees' willingness to discuss a mental health issue"
   ]
  },
  {
   "cell_type": "code",
   "execution_count": 23,
   "id": "98e3ea44",
   "metadata": {},
   "outputs": [
    {
     "name": "stdout",
     "output_type": "stream",
     "text": [
      "Some of them    389\n",
      "Yes             126\n",
      "No              117\n",
      "Name: coworkers, dtype: int64\n"
     ]
    },
    {
     "data": {
      "image/png": "[encoded data removed]",
      "text/plain": [
       "<Figure size 432x288 with 1 Axes>"
      ]
     },
     "metadata": {
      "needs_background": "light"
     },
     "output_type": "display_data"
    }
   ],
   "source": [
    "# Relationship between \"coworkers\" and \"work_interfere\" - only employees with treatment experience\n",
    "# Create a subset\n",
    "sub_mh_df = mh_df[mh_df[\"treatment\"]==\"Yes\"]\n",
    "\n",
    "print(sub_mh_df[\"coworkers\"].value_counts())\n",
    "create_bar_chart(sub_mh_df[\"coworkers\"],sub_mh_df[\"work_interfere\"])"
   ]
  },
  {
   "cell_type": "markdown",
   "id": "ca932b82",
   "metadata": {},
   "source": [
    "- Employees who have treatment experience and willingness to discuss with their coworkers are less likely to feel work interference."
   ]
  },
  {
   "cell_type": "code",
   "execution_count": 24,
   "id": "443af633",
   "metadata": {},
   "outputs": [
    {
     "name": "stdout",
     "output_type": "stream",
     "text": [
      "Yes             512\n",
      "No              390\n",
      "Some of them    349\n",
      "Name: supervisor, dtype: int64\n"
     ]
    },
    {
     "data": {
      "image/png": "[encoded data removed]",
      "text/plain": [
       "<Figure size 432x288 with 1 Axes>"
      ]
     },
     "metadata": {
      "needs_background": "light"
     },
     "output_type": "display_data"
    }
   ],
   "source": [
    "# Relationship between \"supervisor\" and \"work_interfere\" \n",
    "print(mh_df[\"supervisor\"].value_counts())\n",
    "\n",
    "create_bar_chart(mh_df[\"supervisor\"],mh_df[\"work_interfere\"])"
   ]
  },
  {
   "cell_type": "markdown",
   "id": "a220e993",
   "metadata": {},
   "source": [
    "- Employees who are willing to discuss with their supervisor are less likely to feel work interference."
   ]
  },
  {
   "cell_type": "code",
   "execution_count": 25,
   "id": "052a00d0",
   "metadata": {},
   "outputs": [
    {
     "name": "stdout",
     "output_type": "stream",
     "text": [
      "Yes             248\n",
      "No              204\n",
      "Some of them    180\n",
      "Name: supervisor, dtype: int64\n"
     ]
    },
    {
     "data": {
      "image/png": "[encoded data removed]",
      "text/plain": [
       "<Figure size 432x288 with 1 Axes>"
      ]
     },
     "metadata": {
      "needs_background": "light"
     },
     "output_type": "display_data"
    }
   ],
   "source": [
    "# Relationship between \"supervisor\" and \"work_interfere\" - only employees with treatment experience\n",
    "print(sub_mh_df[\"supervisor\"].value_counts())\n",
    "\n",
    "create_bar_chart(sub_mh_df[\"supervisor\"],sub_mh_df[\"work_interfere\"])"
   ]
  },
  {
   "cell_type": "markdown",
   "id": "dab4ad52",
   "metadata": {},
   "source": [
    "- Employees who have treatment experience and willingness to discuss with their supervisor are less likely to feel work interference."
   ]
  },
  {
   "cell_type": "markdown",
   "id": "297577f3",
   "metadata": {},
   "source": [
    "Research question 1 - Results: \n",
    "\n",
    "Employees who are more willing to discuss their mental health issues with others are less likely to feel work interference. Promoting social interactions in workplaces may prevent employees with mental health issues from losing their productivity."
   ]
  },
  {
   "cell_type": "markdown",
   "id": "5bf8671d",
   "metadata": {},
   "source": [
    "Research question 2:\n",
    "- Does support from employers create a working environment where employees with a mental health issue can work comfortably? \n",
    "    Employer's support: \"benefits\", \"care_options\", \"wellness_program\", \"seek_help\", \"mentalvsphysical\", (\"mentalhealthconsequence\")\n",
    "    Working condition: \"work_interfere\", \"obs_consequence\""
   ]
  },
  {
   "cell_type": "code",
   "execution_count": 26,
   "id": "d3ae3132",
   "metadata": {},
   "outputs": [
    {
     "name": "stdout",
     "output_type": "stream",
     "text": [
      "Yes           302\n",
      "No            179\n",
      "Don't know    151\n",
      "Name: benefits, dtype: int64\n"
     ]
    },
    {
     "data": {
      "image/png": "[encoded data removed]",
      "text/plain": [
       "<Figure size 432x288 with 1 Axes>"
      ]
     },
     "metadata": {
      "needs_background": "light"
     },
     "output_type": "display_data"
    }
   ],
   "source": [
    "# Relationship between \"benefits\" and \"work_interfere\" - only employees with treatment experience\n",
    "print(sub_mh_df[\"benefits\"].value_counts())\n",
    "create_bar_chart(sub_mh_df[\"benefits\"],sub_mh_df[\"work_interfere\"])"
   ]
  },
  {
   "cell_type": "markdown",
   "id": "4ea7fba6",
   "metadata": {},
   "source": [
    "- Employees who have treatment experience and whose employer provides mental health benefits are slightly less likely to experience work interference. However, there are still over 60% of employees experience work interference."
   ]
  },
  {
   "cell_type": "code",
   "execution_count": 27,
   "id": "97c91a41",
   "metadata": {},
   "outputs": [
    {
     "name": "stdout",
     "output_type": "stream",
     "text": [
      "No            320\n",
      "Don't know    166\n",
      "Yes           146\n",
      "Name: seek_help, dtype: int64\n"
     ]
    },
    {
     "data": {
      "image/png": "[encoded data removed]",
      "text/plain": [
       "<Figure size 432x288 with 1 Axes>"
      ]
     },
     "metadata": {
      "needs_background": "light"
     },
     "output_type": "display_data"
    }
   ],
   "source": [
    "# Relationship between \"seek_help\" and \"work_interfere\" - only employees with treatment experience\n",
    "print(sub_mh_df[\"seek_help\"].value_counts())\n",
    "create_bar_chart(sub_mh_df[\"seek_help\"],sub_mh_df[\"work_interfere\"])"
   ]
  },
  {
   "cell_type": "markdown",
   "id": "be881764",
   "metadata": {},
   "source": [
    "- Employees who have treatment experience and whose employer provides mental health-related resources are less likely to experience work interference. However, there are still over 60% of employees experience work interference.  "
   ]
  },
  {
   "cell_type": "code",
   "execution_count": 28,
   "id": "baa6ec1f",
   "metadata": {},
   "outputs": [
    {
     "name": "stdout",
     "output_type": "stream",
     "text": [
      "Yes           473\n",
      "Don't know    407\n",
      "No            371\n",
      "Name: benefits, dtype: int64\n"
     ]
    },
    {
     "data": {
      "image/png": "[encoded data removed]",
      "text/plain": [
       "<Figure size 432x288 with 1 Axes>"
      ]
     },
     "metadata": {
      "needs_background": "light"
     },
     "output_type": "display_data"
    }
   ],
   "source": [
    "# Relationship between \"benefits\" and \"obs_consequence\" \n",
    "# obs_consequence: \"Have you heard of or observed negative consequences for coworkers with mental health conditions in your workplace?\"\n",
    "print(mh_df[\"benefits\"].value_counts())\n",
    "create_bar_chart(mh_df[\"benefits\"],mh_df[\"obs_consequence\"])"
   ]
  },
  {
   "cell_type": "markdown",
   "id": "d8327a56",
   "metadata": {},
   "source": [
    "Check some comments "
   ]
  },
  {
   "cell_type": "code",
   "execution_count": 37,
   "id": "8df92c71",
   "metadata": {},
   "outputs": [
    {
     "name": "stdout",
     "output_type": "stream",
     "text": [
      "I'm not on my company's health insurance which could be part of the reason I answered Don't know to so many questions.\n",
      "\n",
      "\n",
      "I have chronic low-level neurological issues that have mental health side effects. One of my supervisors has also experienced similar neurological problems so I feel more comfortable being open about my issues than I would with someone without that experience. \n",
      "\n",
      "\n",
      "My company does provide healthcare but not to me as I'm on a fixed-term contract. The mental healthcare I use is provided entirely outside of my work.\n",
      "\n",
      "\n",
      "Relatively new job. Ask again later\n",
      "\n",
      "\n",
      "Sometimes I think  about using drugs for my mental health issues. If i use drugs I feel better\n",
      "\n",
      "\n",
      "I selected my current employer based on its policies about self care and the quality of their overall health and wellness benefits. I still have residual caution from previous employers who ranged from ambivalent to indifferent to actively hostile regarding mental health concerns.\n",
      "\n",
      "\n",
      "Our health plan has covered my psychotherapy and my antidepressant medication. My manager has been aware but discreet throughout. I did get negative reviews when my depression was trashing my delivery but y'know I wasn't delivering.\n",
      "\n",
      "\n",
      "I just started a new job last week hence a lot of don't know's\n",
      "\n",
      "\n",
      "In addition to my own mental health issues I've known several coworkers that may be suffering and I don't know how to tell them I empathize and that I want to help.\n",
      "\n",
      "\n",
      "Thanks for doing this research.\n",
      "\n",
      "\n"
     ]
    }
   ],
   "source": [
    "com_df = mh_df[mh_df[\"comments\"]!= \"No Answer\"]\n",
    "\n",
    "for i in range(10):\n",
    "    print(com_df[\"comments\"].iloc[i])\n",
    "    print(\"\\n\")"
   ]
  },
  {
   "cell_type": "markdown",
   "id": "9c82028e",
   "metadata": {},
   "source": [
    "Remote work"
   ]
  },
  {
   "cell_type": "code",
   "execution_count": 38,
   "id": "18949be7",
   "metadata": {},
   "outputs": [
    {
     "data": {
      "text/plain": [
       "No     880\n",
       "Yes    371\n",
       "Name: remote_work, dtype: int64"
      ]
     },
     "execution_count": 38,
     "metadata": {},
     "output_type": "execute_result"
    }
   ],
   "source": [
    "mh_df[\"remote_work\"].value_counts()"
   ]
  },
  {
   "cell_type": "code",
   "execution_count": 39,
   "id": "57bd36d5",
   "metadata": {},
   "outputs": [
    {
     "data": {
      "image/png": "[encoded data removed]",
      "text/plain": [
       "<Figure size 432x288 with 1 Axes>"
      ]
     },
     "metadata": {
      "needs_background": "light"
     },
     "output_type": "display_data"
    }
   ],
   "source": [
    "relation_bar_chart(mh_df, \"remote_work\", \"treatment\")"
   ]
  },
  {
   "cell_type": "code",
   "execution_count": 40,
   "id": "6c724937",
   "metadata": {},
   "outputs": [
    {
     "data": {
      "image/png": "[encoded data removed]",
      "text/plain": [
       "<Figure size 432x288 with 1 Axes>"
      ]
     },
     "metadata": {
      "needs_background": "light"
     },
     "output_type": "display_data"
    }
   ],
   "source": [
    "create_bar_chart(sub_mh_df[\"remote_work\"],sub_mh_df[\"work_interfere\"])"
   ]
  },
  {
   "cell_type": "code",
   "execution_count": null,
   "id": "5a1072f9",
   "metadata": {},
   "outputs": [],
   "source": []
  }
 ],
 "metadata": {
  "kernelspec": {
   "display_name": "Python 3 (ipykernel)",
   "language": "python",
   "name": "python3"
  },
  "language_info": {
   "codemirror_mode": {
    "name": "ipython",
    "version": 3
   },
   "file_extension": ".py",
   "mimetype": "text/x-python",
   "name": "python",
   "nbconvert_exporter": "python",
   "pygments_lexer": "ipython3",
   "version": "3.8.1"
  }
 },
 "nbformat": 4,
 "nbformat_minor": 5
}
