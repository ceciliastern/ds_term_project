{
 "cells": [
  {
   "cell_type": "markdown",
   "id": "c331916d",
   "metadata": {},
   "source": [
    "## 1. Import Dataset"
   ]
  },
  {
   "cell_type": "code",
   "execution_count": 3,
   "id": "48036609",
   "metadata": {},
   "outputs": [
    {
     "data": {
      "text/html": [
       "<div>\n",
       "<style scoped>\n",
       "    .dataframe tbody tr th:only-of-type {\n",
       "        vertical-align: middle;\n",
       "    }\n",
       "\n",
       "    .dataframe tbody tr th {\n",
       "        vertical-align: top;\n",
       "    }\n",
       "\n",
       "    .dataframe thead th {\n",
       "        text-align: right;\n",
       "    }\n",
       "</style>\n",
       "<table border=\"1\" class=\"dataframe\">\n",
       "  <thead>\n",
       "    <tr style=\"text-align: right;\">\n",
       "      <th></th>\n",
       "      <th>Timestamp</th>\n",
       "      <th>Age</th>\n",
       "      <th>Gender</th>\n",
       "      <th>Country</th>\n",
       "      <th>state</th>\n",
       "      <th>self_employed</th>\n",
       "      <th>family_history</th>\n",
       "      <th>treatment</th>\n",
       "      <th>work_interfere</th>\n",
       "      <th>no_employees</th>\n",
       "      <th>...</th>\n",
       "      <th>leave</th>\n",
       "      <th>mental_health_consequence</th>\n",
       "      <th>phys_health_consequence</th>\n",
       "      <th>coworkers</th>\n",
       "      <th>supervisor</th>\n",
       "      <th>mental_health_interview</th>\n",
       "      <th>phys_health_interview</th>\n",
       "      <th>mental_vs_physical</th>\n",
       "      <th>obs_consequence</th>\n",
       "      <th>comments</th>\n",
       "    </tr>\n",
       "  </thead>\n",
       "  <tbody>\n",
       "    <tr>\n",
       "      <th>0</th>\n",
       "      <td>2014-08-27 11:29:31</td>\n",
       "      <td>37</td>\n",
       "      <td>Female</td>\n",
       "      <td>United States</td>\n",
       "      <td>IL</td>\n",
       "      <td>NaN</td>\n",
       "      <td>No</td>\n",
       "      <td>Yes</td>\n",
       "      <td>Often</td>\n",
       "      <td>6-25</td>\n",
       "      <td>...</td>\n",
       "      <td>Somewhat easy</td>\n",
       "      <td>No</td>\n",
       "      <td>No</td>\n",
       "      <td>Some of them</td>\n",
       "      <td>Yes</td>\n",
       "      <td>No</td>\n",
       "      <td>Maybe</td>\n",
       "      <td>Yes</td>\n",
       "      <td>No</td>\n",
       "      <td>NaN</td>\n",
       "    </tr>\n",
       "    <tr>\n",
       "      <th>1</th>\n",
       "      <td>2014-08-27 11:29:37</td>\n",
       "      <td>44</td>\n",
       "      <td>M</td>\n",
       "      <td>United States</td>\n",
       "      <td>IN</td>\n",
       "      <td>NaN</td>\n",
       "      <td>No</td>\n",
       "      <td>No</td>\n",
       "      <td>Rarely</td>\n",
       "      <td>More than 1000</td>\n",
       "      <td>...</td>\n",
       "      <td>Don't know</td>\n",
       "      <td>Maybe</td>\n",
       "      <td>No</td>\n",
       "      <td>No</td>\n",
       "      <td>No</td>\n",
       "      <td>No</td>\n",
       "      <td>No</td>\n",
       "      <td>Don't know</td>\n",
       "      <td>No</td>\n",
       "      <td>NaN</td>\n",
       "    </tr>\n",
       "    <tr>\n",
       "      <th>2</th>\n",
       "      <td>2014-08-27 11:29:44</td>\n",
       "      <td>32</td>\n",
       "      <td>Male</td>\n",
       "      <td>Canada</td>\n",
       "      <td>NaN</td>\n",
       "      <td>NaN</td>\n",
       "      <td>No</td>\n",
       "      <td>No</td>\n",
       "      <td>Rarely</td>\n",
       "      <td>6-25</td>\n",
       "      <td>...</td>\n",
       "      <td>Somewhat difficult</td>\n",
       "      <td>No</td>\n",
       "      <td>No</td>\n",
       "      <td>Yes</td>\n",
       "      <td>Yes</td>\n",
       "      <td>Yes</td>\n",
       "      <td>Yes</td>\n",
       "      <td>No</td>\n",
       "      <td>No</td>\n",
       "      <td>NaN</td>\n",
       "    </tr>\n",
       "    <tr>\n",
       "      <th>3</th>\n",
       "      <td>2014-08-27 11:29:46</td>\n",
       "      <td>31</td>\n",
       "      <td>Male</td>\n",
       "      <td>United Kingdom</td>\n",
       "      <td>NaN</td>\n",
       "      <td>NaN</td>\n",
       "      <td>Yes</td>\n",
       "      <td>Yes</td>\n",
       "      <td>Often</td>\n",
       "      <td>26-100</td>\n",
       "      <td>...</td>\n",
       "      <td>Somewhat difficult</td>\n",
       "      <td>Yes</td>\n",
       "      <td>Yes</td>\n",
       "      <td>Some of them</td>\n",
       "      <td>No</td>\n",
       "      <td>Maybe</td>\n",
       "      <td>Maybe</td>\n",
       "      <td>No</td>\n",
       "      <td>Yes</td>\n",
       "      <td>NaN</td>\n",
       "    </tr>\n",
       "    <tr>\n",
       "      <th>4</th>\n",
       "      <td>2014-08-27 11:30:22</td>\n",
       "      <td>31</td>\n",
       "      <td>Male</td>\n",
       "      <td>United States</td>\n",
       "      <td>TX</td>\n",
       "      <td>NaN</td>\n",
       "      <td>No</td>\n",
       "      <td>No</td>\n",
       "      <td>Never</td>\n",
       "      <td>100-500</td>\n",
       "      <td>...</td>\n",
       "      <td>Don't know</td>\n",
       "      <td>No</td>\n",
       "      <td>No</td>\n",
       "      <td>Some of them</td>\n",
       "      <td>Yes</td>\n",
       "      <td>Yes</td>\n",
       "      <td>Yes</td>\n",
       "      <td>Don't know</td>\n",
       "      <td>No</td>\n",
       "      <td>NaN</td>\n",
       "    </tr>\n",
       "  </tbody>\n",
       "</table>\n",
       "<p>5 rows × 27 columns</p>\n",
       "</div>"
      ],
      "text/plain": [
       "             Timestamp  Age  Gender         Country state self_employed  \\\n",
       "0  2014-08-27 11:29:31   37  Female   United States    IL           NaN   \n",
       "1  2014-08-27 11:29:37   44       M   United States    IN           NaN   \n",
       "2  2014-08-27 11:29:44   32    Male          Canada   NaN           NaN   \n",
       "3  2014-08-27 11:29:46   31    Male  United Kingdom   NaN           NaN   \n",
       "4  2014-08-27 11:30:22   31    Male   United States    TX           NaN   \n",
       "\n",
       "  family_history treatment work_interfere    no_employees  ...  \\\n",
       "0             No       Yes          Often            6-25  ...   \n",
       "1             No        No         Rarely  More than 1000  ...   \n",
       "2             No        No         Rarely            6-25  ...   \n",
       "3            Yes       Yes          Often          26-100  ...   \n",
       "4             No        No          Never         100-500  ...   \n",
       "\n",
       "                leave mental_health_consequence phys_health_consequence  \\\n",
       "0       Somewhat easy                        No                      No   \n",
       "1          Don't know                     Maybe                      No   \n",
       "2  Somewhat difficult                        No                      No   \n",
       "3  Somewhat difficult                       Yes                     Yes   \n",
       "4          Don't know                        No                      No   \n",
       "\n",
       "      coworkers supervisor mental_health_interview phys_health_interview  \\\n",
       "0  Some of them        Yes                      No                 Maybe   \n",
       "1            No         No                      No                    No   \n",
       "2           Yes        Yes                     Yes                   Yes   \n",
       "3  Some of them         No                   Maybe                 Maybe   \n",
       "4  Some of them        Yes                     Yes                   Yes   \n",
       "\n",
       "  mental_vs_physical obs_consequence comments  \n",
       "0                Yes              No      NaN  \n",
       "1         Don't know              No      NaN  \n",
       "2                 No              No      NaN  \n",
       "3                 No             Yes      NaN  \n",
       "4         Don't know              No      NaN  \n",
       "\n",
       "[5 rows x 27 columns]"
      ]
     },
     "execution_count": 3,
     "metadata": {},
     "output_type": "execute_result"
    }
   ],
   "source": [
    "# TODO: Import data set\n",
    "import numpy as np\n",
    "import pandas as pd\n",
    "mh_df = pd.read_csv(\"./data/survey.csv\")\n",
    "mh_df.head()"
   ]
  },
  {
   "cell_type": "code",
   "execution_count": 7,
   "id": "e8addbe1",
   "metadata": {},
   "outputs": [
    {
     "data": {
      "text/plain": [
       "(1259, 27)"
      ]
     },
     "execution_count": 7,
     "metadata": {},
     "output_type": "execute_result"
    }
   ],
   "source": [
    "# Check the nubmer of rows and columns\n",
    "mh_df.shape"
   ]
  },
  {
   "cell_type": "code",
   "execution_count": 11,
   "id": "671bcf52",
   "metadata": {},
   "outputs": [
    {
     "data": {
      "text/plain": [
       "Timestamp                    object\n",
       "Age                           int64\n",
       "Gender                       object\n",
       "Country                      object\n",
       "state                        object\n",
       "self_employed                object\n",
       "family_history               object\n",
       "treatment                    object\n",
       "work_interfere               object\n",
       "no_employees                 object\n",
       "remote_work                  object\n",
       "tech_company                 object\n",
       "benefits                     object\n",
       "care_options                 object\n",
       "wellness_program             object\n",
       "seek_help                    object\n",
       "anonymity                    object\n",
       "leave                        object\n",
       "mental_health_consequence    object\n",
       "phys_health_consequence      object\n",
       "coworkers                    object\n",
       "supervisor                   object\n",
       "mental_health_interview      object\n",
       "phys_health_interview        object\n",
       "mental_vs_physical           object\n",
       "obs_consequence              object\n",
       "comments                     object\n",
       "dtype: object"
      ]
     },
     "execution_count": 11,
     "metadata": {},
     "output_type": "execute_result"
    }
   ],
   "source": [
    "# Check the data types\n",
    "mh_df.dtypes"
   ]
  },
  {
   "cell_type": "markdown",
   "id": "4da02c5e",
   "metadata": {},
   "source": [
    "## 2. Data cleaning"
   ]
  },
  {
   "cell_type": "markdown",
   "id": "b27b693b",
   "metadata": {},
   "source": [
    "1) Change Gender values"
   ]
  },
  {
   "cell_type": "code",
   "execution_count": 15,
   "id": "286bb992",
   "metadata": {
    "scrolled": false
   },
   "outputs": [
    {
     "data": {
      "text/plain": [
       "Male                                              615\n",
       "male                                              206\n",
       "Female                                            121\n",
       "M                                                 116\n",
       "female                                             62\n",
       "F                                                  38\n",
       "m                                                  34\n",
       "f                                                  15\n",
       "Make                                                4\n",
       "Male                                                3\n",
       "Woman                                               3\n",
       "Cis Male                                            2\n",
       "Man                                                 2\n",
       "Female (trans)                                      2\n",
       "Female                                              2\n",
       "Trans woman                                         1\n",
       "msle                                                1\n",
       "male leaning androgynous                            1\n",
       "Neuter                                              1\n",
       "cis male                                            1\n",
       "queer                                               1\n",
       "Female (cis)                                        1\n",
       "Mail                                                1\n",
       "cis-female/femme                                    1\n",
       "A little about you                                  1\n",
       "Malr                                                1\n",
       "p                                                   1\n",
       "femail                                              1\n",
       "Cis Man                                             1\n",
       "Guy (-ish) ^_^                                      1\n",
       "Enby                                                1\n",
       "Agender                                             1\n",
       "Androgyne                                           1\n",
       "Male-ish                                            1\n",
       "maile                                               1\n",
       "Trans-female                                        1\n",
       "Cis Female                                          1\n",
       "something kinda male?                               1\n",
       "Mal                                                 1\n",
       "Male (CIS)                                          1\n",
       "queer/she/they                                      1\n",
       "non-binary                                          1\n",
       "Femake                                              1\n",
       "woman                                               1\n",
       "Nah                                                 1\n",
       "All                                                 1\n",
       "fluid                                               1\n",
       "Genderqueer                                         1\n",
       "ostensibly male, unsure what that really means      1\n",
       "Name: Gender, dtype: int64"
      ]
     },
     "execution_count": 15,
     "metadata": {},
     "output_type": "execute_result"
    }
   ],
   "source": [
    "# TODO: Cleaning: Male, female string matching\n",
    "# Check Gender values\n",
    "mh_df[\"Gender\"].value_counts()"
   ]
  },
  {
   "cell_type": "code",
   "execution_count": null,
   "id": "66070bef",
   "metadata": {},
   "outputs": [],
   "source": [
    "# Change Gender names\n"
   ]
  },
  {
   "cell_type": "markdown",
   "id": "dec4a107",
   "metadata": {},
   "source": [
    "2) Handle missing values"
   ]
  },
  {
   "cell_type": "code",
   "execution_count": 24,
   "id": "f2651377",
   "metadata": {},
   "outputs": [
    {
     "data": {
      "text/plain": [
       "Timestamp                    False\n",
       "Age                          False\n",
       "Gender                       False\n",
       "Country                      False\n",
       "state                         True\n",
       "self_employed                 True\n",
       "family_history               False\n",
       "treatment                    False\n",
       "work_interfere                True\n",
       "no_employees                 False\n",
       "remote_work                  False\n",
       "tech_company                 False\n",
       "benefits                     False\n",
       "care_options                 False\n",
       "wellness_program             False\n",
       "seek_help                    False\n",
       "anonymity                    False\n",
       "leave                        False\n",
       "mental_health_consequence    False\n",
       "phys_health_consequence      False\n",
       "coworkers                    False\n",
       "supervisor                   False\n",
       "mental_health_interview      False\n",
       "phys_health_interview        False\n",
       "mental_vs_physical           False\n",
       "obs_consequence              False\n",
       "comments                      True\n",
       "dtype: bool"
      ]
     },
     "execution_count": 24,
     "metadata": {},
     "output_type": "execute_result"
    }
   ],
   "source": [
    "# TODO: Cleaning: Handle missing values\n",
    "# Check if missing values exist in each column\n",
    "mh_df.isnull().any()"
   ]
  },
  {
   "cell_type": "code",
   "execution_count": null,
   "id": "37ed3111",
   "metadata": {},
   "outputs": [],
   "source": [
    "# TODO: Num rows/columns, feature names on mental health dataset"
   ]
  },
  {
   "cell_type": "code",
   "execution_count": null,
   "id": "956b4bbe",
   "metadata": {},
   "outputs": [],
   "source": [
    "# TODO: Distribution of the target variable"
   ]
  },
  {
   "cell_type": "code",
   "execution_count": null,
   "id": "93bb25f2",
   "metadata": {},
   "outputs": [],
   "source": [
    "# TODO: Correlation(relationship) between the target variable and the other features"
   ]
  },
  {
   "cell_type": "code",
   "execution_count": null,
   "id": "e08b029f",
   "metadata": {},
   "outputs": [],
   "source": []
  }
 ],
 "metadata": {
  "kernelspec": {
   "display_name": "Python 3 (ipykernel)",
   "language": "python",
   "name": "python3"
  },
  "language_info": {
   "codemirror_mode": {
    "name": "ipython",
    "version": 3
   },
   "file_extension": ".py",
   "mimetype": "text/x-python",
   "name": "python",
   "nbconvert_exporter": "python",
   "pygments_lexer": "ipython3",
   "version": "3.8.1"
  }
 },
 "nbformat": 4,
 "nbformat_minor": 5
}
