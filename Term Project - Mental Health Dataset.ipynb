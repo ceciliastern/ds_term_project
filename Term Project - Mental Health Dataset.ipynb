{
 "cells": [
  {
   "cell_type": "markdown",
   "id": "c331916d",
   "metadata": {},
   "source": [
    "## 1. Import Dataset"
   ]
  },
  {
   "cell_type": "code",
   "execution_count": 1,
   "id": "48036609",
   "metadata": {},
   "outputs": [
    {
     "data": {
      "text/html": [
       "<div>\n",
       "<style scoped>\n",
       "    .dataframe tbody tr th:only-of-type {\n",
       "        vertical-align: middle;\n",
       "    }\n",
       "\n",
       "    .dataframe tbody tr th {\n",
       "        vertical-align: top;\n",
       "    }\n",
       "\n",
       "    .dataframe thead th {\n",
       "        text-align: right;\n",
       "    }\n",
       "</style>\n",
       "<table border=\"1\" class=\"dataframe\">\n",
       "  <thead>\n",
       "    <tr style=\"text-align: right;\">\n",
       "      <th></th>\n",
       "      <th>Timestamp</th>\n",
       "      <th>Age</th>\n",
       "      <th>Gender</th>\n",
       "      <th>Country</th>\n",
       "      <th>state</th>\n",
       "      <th>self_employed</th>\n",
       "      <th>family_history</th>\n",
       "      <th>treatment</th>\n",
       "      <th>work_interfere</th>\n",
       "      <th>no_employees</th>\n",
       "      <th>...</th>\n",
       "      <th>leave</th>\n",
       "      <th>mental_health_consequence</th>\n",
       "      <th>phys_health_consequence</th>\n",
       "      <th>coworkers</th>\n",
       "      <th>supervisor</th>\n",
       "      <th>mental_health_interview</th>\n",
       "      <th>phys_health_interview</th>\n",
       "      <th>mental_vs_physical</th>\n",
       "      <th>obs_consequence</th>\n",
       "      <th>comments</th>\n",
       "    </tr>\n",
       "  </thead>\n",
       "  <tbody>\n",
       "    <tr>\n",
       "      <th>0</th>\n",
       "      <td>2014-08-27 11:29:31</td>\n",
       "      <td>37</td>\n",
       "      <td>Female</td>\n",
       "      <td>United States</td>\n",
       "      <td>IL</td>\n",
       "      <td>NaN</td>\n",
       "      <td>No</td>\n",
       "      <td>Yes</td>\n",
       "      <td>Often</td>\n",
       "      <td>6-25</td>\n",
       "      <td>...</td>\n",
       "      <td>Somewhat easy</td>\n",
       "      <td>No</td>\n",
       "      <td>No</td>\n",
       "      <td>Some of them</td>\n",
       "      <td>Yes</td>\n",
       "      <td>No</td>\n",
       "      <td>Maybe</td>\n",
       "      <td>Yes</td>\n",
       "      <td>No</td>\n",
       "      <td>NaN</td>\n",
       "    </tr>\n",
       "    <tr>\n",
       "      <th>1</th>\n",
       "      <td>2014-08-27 11:29:37</td>\n",
       "      <td>44</td>\n",
       "      <td>M</td>\n",
       "      <td>United States</td>\n",
       "      <td>IN</td>\n",
       "      <td>NaN</td>\n",
       "      <td>No</td>\n",
       "      <td>No</td>\n",
       "      <td>Rarely</td>\n",
       "      <td>More than 1000</td>\n",
       "      <td>...</td>\n",
       "      <td>Don't know</td>\n",
       "      <td>Maybe</td>\n",
       "      <td>No</td>\n",
       "      <td>No</td>\n",
       "      <td>No</td>\n",
       "      <td>No</td>\n",
       "      <td>No</td>\n",
       "      <td>Don't know</td>\n",
       "      <td>No</td>\n",
       "      <td>NaN</td>\n",
       "    </tr>\n",
       "    <tr>\n",
       "      <th>2</th>\n",
       "      <td>2014-08-27 11:29:44</td>\n",
       "      <td>32</td>\n",
       "      <td>Male</td>\n",
       "      <td>Canada</td>\n",
       "      <td>NaN</td>\n",
       "      <td>NaN</td>\n",
       "      <td>No</td>\n",
       "      <td>No</td>\n",
       "      <td>Rarely</td>\n",
       "      <td>6-25</td>\n",
       "      <td>...</td>\n",
       "      <td>Somewhat difficult</td>\n",
       "      <td>No</td>\n",
       "      <td>No</td>\n",
       "      <td>Yes</td>\n",
       "      <td>Yes</td>\n",
       "      <td>Yes</td>\n",
       "      <td>Yes</td>\n",
       "      <td>No</td>\n",
       "      <td>No</td>\n",
       "      <td>NaN</td>\n",
       "    </tr>\n",
       "    <tr>\n",
       "      <th>3</th>\n",
       "      <td>2014-08-27 11:29:46</td>\n",
       "      <td>31</td>\n",
       "      <td>Male</td>\n",
       "      <td>United Kingdom</td>\n",
       "      <td>NaN</td>\n",
       "      <td>NaN</td>\n",
       "      <td>Yes</td>\n",
       "      <td>Yes</td>\n",
       "      <td>Often</td>\n",
       "      <td>26-100</td>\n",
       "      <td>...</td>\n",
       "      <td>Somewhat difficult</td>\n",
       "      <td>Yes</td>\n",
       "      <td>Yes</td>\n",
       "      <td>Some of them</td>\n",
       "      <td>No</td>\n",
       "      <td>Maybe</td>\n",
       "      <td>Maybe</td>\n",
       "      <td>No</td>\n",
       "      <td>Yes</td>\n",
       "      <td>NaN</td>\n",
       "    </tr>\n",
       "    <tr>\n",
       "      <th>4</th>\n",
       "      <td>2014-08-27 11:30:22</td>\n",
       "      <td>31</td>\n",
       "      <td>Male</td>\n",
       "      <td>United States</td>\n",
       "      <td>TX</td>\n",
       "      <td>NaN</td>\n",
       "      <td>No</td>\n",
       "      <td>No</td>\n",
       "      <td>Never</td>\n",
       "      <td>100-500</td>\n",
       "      <td>...</td>\n",
       "      <td>Don't know</td>\n",
       "      <td>No</td>\n",
       "      <td>No</td>\n",
       "      <td>Some of them</td>\n",
       "      <td>Yes</td>\n",
       "      <td>Yes</td>\n",
       "      <td>Yes</td>\n",
       "      <td>Don't know</td>\n",
       "      <td>No</td>\n",
       "      <td>NaN</td>\n",
       "    </tr>\n",
       "  </tbody>\n",
       "</table>\n",
       "<p>5 rows × 27 columns</p>\n",
       "</div>"
      ],
      "text/plain": [
       "             Timestamp  Age  Gender         Country state self_employed  \\\n",
       "0  2014-08-27 11:29:31   37  Female   United States    IL           NaN   \n",
       "1  2014-08-27 11:29:37   44       M   United States    IN           NaN   \n",
       "2  2014-08-27 11:29:44   32    Male          Canada   NaN           NaN   \n",
       "3  2014-08-27 11:29:46   31    Male  United Kingdom   NaN           NaN   \n",
       "4  2014-08-27 11:30:22   31    Male   United States    TX           NaN   \n",
       "\n",
       "  family_history treatment work_interfere    no_employees  ...  \\\n",
       "0             No       Yes          Often            6-25  ...   \n",
       "1             No        No         Rarely  More than 1000  ...   \n",
       "2             No        No         Rarely            6-25  ...   \n",
       "3            Yes       Yes          Often          26-100  ...   \n",
       "4             No        No          Never         100-500  ...   \n",
       "\n",
       "                leave mental_health_consequence phys_health_consequence  \\\n",
       "0       Somewhat easy                        No                      No   \n",
       "1          Don't know                     Maybe                      No   \n",
       "2  Somewhat difficult                        No                      No   \n",
       "3  Somewhat difficult                       Yes                     Yes   \n",
       "4          Don't know                        No                      No   \n",
       "\n",
       "      coworkers supervisor mental_health_interview phys_health_interview  \\\n",
       "0  Some of them        Yes                      No                 Maybe   \n",
       "1            No         No                      No                    No   \n",
       "2           Yes        Yes                     Yes                   Yes   \n",
       "3  Some of them         No                   Maybe                 Maybe   \n",
       "4  Some of them        Yes                     Yes                   Yes   \n",
       "\n",
       "  mental_vs_physical obs_consequence comments  \n",
       "0                Yes              No      NaN  \n",
       "1         Don't know              No      NaN  \n",
       "2                 No              No      NaN  \n",
       "3                 No             Yes      NaN  \n",
       "4         Don't know              No      NaN  \n",
       "\n",
       "[5 rows x 27 columns]"
      ]
     },
     "execution_count": 1,
     "metadata": {},
     "output_type": "execute_result"
    }
   ],
   "source": [
    "# TODO: Import data set\n",
    "import numpy as np\n",
    "import pandas as pd\n",
    "mh_df = pd.read_csv(\"./data/survey.csv\")\n",
    "mh_df.head()"
   ]
  },
  {
   "cell_type": "code",
   "execution_count": 2,
   "id": "e8addbe1",
   "metadata": {},
   "outputs": [
    {
     "data": {
      "text/plain": [
       "(1259, 27)"
      ]
     },
     "execution_count": 2,
     "metadata": {},
     "output_type": "execute_result"
    }
   ],
   "source": [
    "# Check the nubmer of rows and columns\n",
    "mh_df.shape"
   ]
  },
  {
   "cell_type": "code",
   "execution_count": 3,
   "id": "671bcf52",
   "metadata": {},
   "outputs": [
    {
     "data": {
      "text/plain": [
       "Timestamp                    object\n",
       "Age                           int64\n",
       "Gender                       object\n",
       "Country                      object\n",
       "state                        object\n",
       "self_employed                object\n",
       "family_history               object\n",
       "treatment                    object\n",
       "work_interfere               object\n",
       "no_employees                 object\n",
       "remote_work                  object\n",
       "tech_company                 object\n",
       "benefits                     object\n",
       "care_options                 object\n",
       "wellness_program             object\n",
       "seek_help                    object\n",
       "anonymity                    object\n",
       "leave                        object\n",
       "mental_health_consequence    object\n",
       "phys_health_consequence      object\n",
       "coworkers                    object\n",
       "supervisor                   object\n",
       "mental_health_interview      object\n",
       "phys_health_interview        object\n",
       "mental_vs_physical           object\n",
       "obs_consequence              object\n",
       "comments                     object\n",
       "dtype: object"
      ]
     },
     "execution_count": 3,
     "metadata": {},
     "output_type": "execute_result"
    }
   ],
   "source": [
    "# Check the data types\n",
    "mh_df.dtypes"
   ]
  },
  {
   "cell_type": "code",
   "execution_count": 4,
   "id": "9f08109e",
   "metadata": {},
   "outputs": [],
   "source": [
    "# Change some column names\n",
    "mh_df.rename(columns={\"Timestamp\":\"timestamp\", \"Age\": \"age\", \"Gender\": \"gender\", \"Country\": \"country\"}, inplace=True)"
   ]
  },
  {
   "cell_type": "markdown",
   "id": "4da02c5e",
   "metadata": {},
   "source": [
    "## 2. Data cleaning"
   ]
  },
  {
   "cell_type": "markdown",
   "id": "b27b693b",
   "metadata": {},
   "source": [
    "1) Change Gender values"
   ]
  },
  {
   "cell_type": "code",
   "execution_count": 5,
   "id": "286bb992",
   "metadata": {
    "scrolled": false
   },
   "outputs": [
    {
     "name": "stdout",
     "output_type": "stream",
     "text": [
      "Male                                              615\n",
      "male                                              206\n",
      "Female                                            121\n",
      "M                                                 116\n",
      "female                                             62\n",
      "F                                                  38\n",
      "m                                                  34\n",
      "f                                                  15\n",
      "Make                                                4\n",
      "Male                                                3\n",
      "Woman                                               3\n",
      "Cis Male                                            2\n",
      "Man                                                 2\n",
      "Female (trans)                                      2\n",
      "Female                                              2\n",
      "Trans woman                                         1\n",
      "msle                                                1\n",
      "male leaning androgynous                            1\n",
      "Neuter                                              1\n",
      "cis male                                            1\n",
      "queer                                               1\n",
      "Female (cis)                                        1\n",
      "Mail                                                1\n",
      "cis-female/femme                                    1\n",
      "A little about you                                  1\n",
      "Malr                                                1\n",
      "p                                                   1\n",
      "femail                                              1\n",
      "Cis Man                                             1\n",
      "Guy (-ish) ^_^                                      1\n",
      "Enby                                                1\n",
      "Agender                                             1\n",
      "Androgyne                                           1\n",
      "Male-ish                                            1\n",
      "maile                                               1\n",
      "Trans-female                                        1\n",
      "Cis Female                                          1\n",
      "something kinda male?                               1\n",
      "Mal                                                 1\n",
      "Male (CIS)                                          1\n",
      "queer/she/they                                      1\n",
      "non-binary                                          1\n",
      "Femake                                              1\n",
      "woman                                               1\n",
      "Nah                                                 1\n",
      "All                                                 1\n",
      "fluid                                               1\n",
      "Genderqueer                                         1\n",
      "ostensibly male, unsure what that really means      1\n",
      "Name: gender, dtype: int64\n"
     ]
    }
   ],
   "source": [
    "# TODO: Cleaning: Male, female string matching\n",
    "# Check Gender values\n",
    "gender = mh_df[\"gender\"].value_counts()\n",
    "print(gender)"
   ]
  },
  {
   "cell_type": "code",
   "execution_count": 6,
   "id": "66070bef",
   "metadata": {},
   "outputs": [
    {
     "name": "stdout",
     "output_type": "stream",
     "text": [
      "Male      990\n",
      "Female    247\n",
      "Others     22\n",
      "Name: new_gender, dtype: int64\n"
     ]
    },
    {
     "data": {
      "text/html": [
       "<div>\n",
       "<style scoped>\n",
       "    .dataframe tbody tr th:only-of-type {\n",
       "        vertical-align: middle;\n",
       "    }\n",
       "\n",
       "    .dataframe tbody tr th {\n",
       "        vertical-align: top;\n",
       "    }\n",
       "\n",
       "    .dataframe thead th {\n",
       "        text-align: right;\n",
       "    }\n",
       "</style>\n",
       "<table border=\"1\" class=\"dataframe\">\n",
       "  <thead>\n",
       "    <tr style=\"text-align: right;\">\n",
       "      <th></th>\n",
       "      <th>timestamp</th>\n",
       "      <th>age</th>\n",
       "      <th>country</th>\n",
       "      <th>state</th>\n",
       "      <th>self_employed</th>\n",
       "      <th>family_history</th>\n",
       "      <th>treatment</th>\n",
       "      <th>work_interfere</th>\n",
       "      <th>no_employees</th>\n",
       "      <th>remote_work</th>\n",
       "      <th>...</th>\n",
       "      <th>mental_health_consequence</th>\n",
       "      <th>phys_health_consequence</th>\n",
       "      <th>coworkers</th>\n",
       "      <th>supervisor</th>\n",
       "      <th>mental_health_interview</th>\n",
       "      <th>phys_health_interview</th>\n",
       "      <th>mental_vs_physical</th>\n",
       "      <th>obs_consequence</th>\n",
       "      <th>comments</th>\n",
       "      <th>new_gender</th>\n",
       "    </tr>\n",
       "  </thead>\n",
       "  <tbody>\n",
       "    <tr>\n",
       "      <th>0</th>\n",
       "      <td>2014-08-27 11:29:31</td>\n",
       "      <td>37</td>\n",
       "      <td>United States</td>\n",
       "      <td>IL</td>\n",
       "      <td>NaN</td>\n",
       "      <td>No</td>\n",
       "      <td>Yes</td>\n",
       "      <td>Often</td>\n",
       "      <td>6-25</td>\n",
       "      <td>No</td>\n",
       "      <td>...</td>\n",
       "      <td>No</td>\n",
       "      <td>No</td>\n",
       "      <td>Some of them</td>\n",
       "      <td>Yes</td>\n",
       "      <td>No</td>\n",
       "      <td>Maybe</td>\n",
       "      <td>Yes</td>\n",
       "      <td>No</td>\n",
       "      <td>NaN</td>\n",
       "      <td>Female</td>\n",
       "    </tr>\n",
       "    <tr>\n",
       "      <th>1</th>\n",
       "      <td>2014-08-27 11:29:37</td>\n",
       "      <td>44</td>\n",
       "      <td>United States</td>\n",
       "      <td>IN</td>\n",
       "      <td>NaN</td>\n",
       "      <td>No</td>\n",
       "      <td>No</td>\n",
       "      <td>Rarely</td>\n",
       "      <td>More than 1000</td>\n",
       "      <td>No</td>\n",
       "      <td>...</td>\n",
       "      <td>Maybe</td>\n",
       "      <td>No</td>\n",
       "      <td>No</td>\n",
       "      <td>No</td>\n",
       "      <td>No</td>\n",
       "      <td>No</td>\n",
       "      <td>Don't know</td>\n",
       "      <td>No</td>\n",
       "      <td>NaN</td>\n",
       "      <td>Male</td>\n",
       "    </tr>\n",
       "    <tr>\n",
       "      <th>2</th>\n",
       "      <td>2014-08-27 11:29:44</td>\n",
       "      <td>32</td>\n",
       "      <td>Canada</td>\n",
       "      <td>NaN</td>\n",
       "      <td>NaN</td>\n",
       "      <td>No</td>\n",
       "      <td>No</td>\n",
       "      <td>Rarely</td>\n",
       "      <td>6-25</td>\n",
       "      <td>No</td>\n",
       "      <td>...</td>\n",
       "      <td>No</td>\n",
       "      <td>No</td>\n",
       "      <td>Yes</td>\n",
       "      <td>Yes</td>\n",
       "      <td>Yes</td>\n",
       "      <td>Yes</td>\n",
       "      <td>No</td>\n",
       "      <td>No</td>\n",
       "      <td>NaN</td>\n",
       "      <td>Male</td>\n",
       "    </tr>\n",
       "    <tr>\n",
       "      <th>3</th>\n",
       "      <td>2014-08-27 11:29:46</td>\n",
       "      <td>31</td>\n",
       "      <td>United Kingdom</td>\n",
       "      <td>NaN</td>\n",
       "      <td>NaN</td>\n",
       "      <td>Yes</td>\n",
       "      <td>Yes</td>\n",
       "      <td>Often</td>\n",
       "      <td>26-100</td>\n",
       "      <td>No</td>\n",
       "      <td>...</td>\n",
       "      <td>Yes</td>\n",
       "      <td>Yes</td>\n",
       "      <td>Some of them</td>\n",
       "      <td>No</td>\n",
       "      <td>Maybe</td>\n",
       "      <td>Maybe</td>\n",
       "      <td>No</td>\n",
       "      <td>Yes</td>\n",
       "      <td>NaN</td>\n",
       "      <td>Male</td>\n",
       "    </tr>\n",
       "    <tr>\n",
       "      <th>4</th>\n",
       "      <td>2014-08-27 11:30:22</td>\n",
       "      <td>31</td>\n",
       "      <td>United States</td>\n",
       "      <td>TX</td>\n",
       "      <td>NaN</td>\n",
       "      <td>No</td>\n",
       "      <td>No</td>\n",
       "      <td>Never</td>\n",
       "      <td>100-500</td>\n",
       "      <td>Yes</td>\n",
       "      <td>...</td>\n",
       "      <td>No</td>\n",
       "      <td>No</td>\n",
       "      <td>Some of them</td>\n",
       "      <td>Yes</td>\n",
       "      <td>Yes</td>\n",
       "      <td>Yes</td>\n",
       "      <td>Don't know</td>\n",
       "      <td>No</td>\n",
       "      <td>NaN</td>\n",
       "      <td>Male</td>\n",
       "    </tr>\n",
       "  </tbody>\n",
       "</table>\n",
       "<p>5 rows × 27 columns</p>\n",
       "</div>"
      ],
      "text/plain": [
       "             timestamp  age         country state self_employed  \\\n",
       "0  2014-08-27 11:29:31   37   United States    IL           NaN   \n",
       "1  2014-08-27 11:29:37   44   United States    IN           NaN   \n",
       "2  2014-08-27 11:29:44   32          Canada   NaN           NaN   \n",
       "3  2014-08-27 11:29:46   31  United Kingdom   NaN           NaN   \n",
       "4  2014-08-27 11:30:22   31   United States    TX           NaN   \n",
       "\n",
       "  family_history treatment work_interfere    no_employees remote_work  ...  \\\n",
       "0             No       Yes          Often            6-25          No  ...   \n",
       "1             No        No         Rarely  More than 1000          No  ...   \n",
       "2             No        No         Rarely            6-25          No  ...   \n",
       "3            Yes       Yes          Often          26-100          No  ...   \n",
       "4             No        No          Never         100-500         Yes  ...   \n",
       "\n",
       "  mental_health_consequence phys_health_consequence     coworkers supervisor  \\\n",
       "0                        No                      No  Some of them        Yes   \n",
       "1                     Maybe                      No            No         No   \n",
       "2                        No                      No           Yes        Yes   \n",
       "3                       Yes                     Yes  Some of them         No   \n",
       "4                        No                      No  Some of them        Yes   \n",
       "\n",
       "  mental_health_interview phys_health_interview mental_vs_physical  \\\n",
       "0                      No                 Maybe                Yes   \n",
       "1                      No                    No         Don't know   \n",
       "2                     Yes                   Yes                 No   \n",
       "3                   Maybe                 Maybe                 No   \n",
       "4                     Yes                   Yes         Don't know   \n",
       "\n",
       "  obs_consequence comments new_gender  \n",
       "0              No      NaN     Female  \n",
       "1              No      NaN       Male  \n",
       "2              No      NaN       Male  \n",
       "3             Yes      NaN       Male  \n",
       "4              No      NaN       Male  \n",
       "\n",
       "[5 rows x 27 columns]"
      ]
     },
     "execution_count": 6,
     "metadata": {},
     "output_type": "execute_result"
    }
   ],
   "source": [
    "# Change Gender names -> Male/Female/Others\n",
    "others = ['A little about you', 'Agender', 'All', 'Androgyne','Enby',\n",
    "          'Female (trans)', 'Genderqueer', 'Guy (-ish) ^_^','Male-ish',\n",
    "          'Nah', 'Neuter', 'Trans woman', 'Trans-female','fluid',\n",
    "          'male leaning androgynous','non-binary',\n",
    "          'ostensibly male, unsure what that really means', 'p', \n",
    "          'queer','queer/she/they', 'something kinda male?']\n",
    "female = ['Cis Female','F', 'Femake', 'Female', 'Female ',\n",
    "          'Female (cis)','Woman','cis-female/femme', 'f', \n",
    "          'femail', 'female','woman']\n",
    "male = ['Cis Male','Cis Man','M','Mail', 'Make', 'Mal', 'Male', 'Male ', 'Male (CIS)',\n",
    "       'Malr', 'Man','cis male','m','maile', 'male','msle']\n",
    "\n",
    "# Replace gender values with Male/Female/Others\n",
    "mh_df.loc[mh_df[\"gender\"].isin(others)==True, \"new_gender\"] = \"Others\"\n",
    "mh_df.loc[mh_df[\"gender\"].isin(female)==True, \"new_gender\"] = \"Female\"\n",
    "mh_df.loc[mh_df[\"gender\"].isin(male)==True, \"new_gender\"] = \"Male\"\n",
    "\n",
    "print(mh_df[\"new_gender\"].value_counts())\n",
    "\n",
    "# Drop the original\"gender\" row\n",
    "mh_df = mh_df.drop(\"gender\", axis=1)\n",
    "mh_df.head()"
   ]
  },
  {
   "cell_type": "markdown",
   "id": "1f57ce95",
   "metadata": {},
   "source": [
    "2) Check \"age\" values"
   ]
  },
  {
   "cell_type": "code",
   "execution_count": 7,
   "id": "0f126a70",
   "metadata": {},
   "outputs": [
    {
     "name": "stdout",
     "output_type": "stream",
     "text": [
      "count    1.259000e+03\n",
      "mean     7.942815e+07\n",
      "std      2.818299e+09\n",
      "min     -1.726000e+03\n",
      "25%      2.700000e+01\n",
      "50%      3.100000e+01\n",
      "75%      3.600000e+01\n",
      "max      1.000000e+11\n",
      "Name: age, dtype: float64\n",
      "[         37          44          32          31          33          35\n",
      "          39          42          23          29          36          27\n",
      "          46          41          34          30          40          38\n",
      "          50          24          18          28          26          22\n",
      "          19          25          45          21         -29          43\n",
      "          56          60          54         329          55 99999999999\n",
      "          48          20          57          58          47          62\n",
      "          51          65          49       -1726           5          53\n",
      "          61           8          11          -1          72]\n",
      "The number of rows with negative or too small age values is 6.\n",
      "The number of rows with >120 age values is 2.\n",
      "count    1251.000000\n",
      "mean       32.076739\n",
      "std         7.288272\n",
      "min        18.000000\n",
      "25%        27.000000\n",
      "50%        31.000000\n",
      "75%        36.000000\n",
      "max        72.000000\n",
      "Name: age, dtype: float64\n",
      "[37 44 32 31 33 35 39 42 23 29 36 27 46 41 34 30 40 38 50 24 18 28 26 22\n",
      " 19 25 45 21 43 56 60 54 55 48 20 57 58 47 62 51 65 49 53 61 72]\n"
     ]
    }
   ],
   "source": [
    "print(mh_df[\"age\"].describe())\n",
    "print(mh_df[\"age\"].unique())\n",
    "\n",
    "# Check the number of rows with negative or too small age values\n",
    "num_negative_ages = (mh_df[\"age\"]<12).sum()\n",
    "print(f\"The number of rows with negative or too small age values is {num_negative_ages}.\")\n",
    "      \n",
    "# Check the number of rows with >120 age values\n",
    "num_over_ages = (mh_df[\"age\"]>120).sum()\n",
    "print(f\"The number of rows with >120 age values is {num_over_ages}.\")\n",
    "\n",
    "# Drop the rows with negative or >120 age values \n",
    "mh_df = mh_df[(mh_df[\"age\"] >= 12)&(mh_df[\"age\"]<=120)]\n",
    "print(mh_df[\"age\"].describe())\n",
    "print(mh_df[\"age\"].unique())\n",
    "# -> The age values range from 18 to 72"
   ]
  },
  {
   "cell_type": "markdown",
   "id": "dec4a107",
   "metadata": {},
   "source": [
    "3) Handle missing values"
   ]
  },
  {
   "cell_type": "code",
   "execution_count": 8,
   "id": "f2651377",
   "metadata": {},
   "outputs": [
    {
     "data": {
      "text/plain": [
       "timestamp                       0\n",
       "age                             0\n",
       "country                         0\n",
       "state                         513\n",
       "self_employed                  18\n",
       "family_history                  0\n",
       "treatment                       0\n",
       "work_interfere                262\n",
       "no_employees                    0\n",
       "remote_work                     0\n",
       "tech_company                    0\n",
       "benefits                        0\n",
       "care_options                    0\n",
       "wellness_program                0\n",
       "seek_help                       0\n",
       "anonymity                       0\n",
       "leave                           0\n",
       "mental_health_consequence       0\n",
       "phys_health_consequence         0\n",
       "coworkers                       0\n",
       "supervisor                      0\n",
       "mental_health_interview         0\n",
       "phys_health_interview           0\n",
       "mental_vs_physical              0\n",
       "obs_consequence                 0\n",
       "comments                     1090\n",
       "new_gender                      0\n",
       "dtype: int64"
      ]
     },
     "execution_count": 8,
     "metadata": {},
     "output_type": "execute_result"
    }
   ],
   "source": [
    "# TODO: Cleaning: Handle missing values\n",
    "# Check the number of missing values in each column\n",
    "mh_df.isnull().sum()"
   ]
  },
  {
   "cell_type": "code",
   "execution_count": 9,
   "id": "8cf8e794",
   "metadata": {},
   "outputs": [
    {
     "name": "stdout",
     "output_type": "stream",
     "text": [
      "['No Answer' 'Yes' 'No']\n",
      "['Often' 'Rarely' 'Never' 'Sometimes' 'No Answer']\n"
     ]
    }
   ],
   "source": [
    "# Replace missing values with \"No Answer\"\n",
    "mh_df = mh_df.fillna({\"self_employed\":\"No Answer\", \"work_interfere\":\"No Answer\", \"comments\":\"No Answer\"})\n",
    "print(mh_df[\"self_employed\"].unique())\n",
    "print(mh_df[\"work_interfere\"].unique())"
   ]
  },
  {
   "cell_type": "code",
   "execution_count": 10,
   "id": "f2be3f4a",
   "metadata": {},
   "outputs": [],
   "source": [
    "# Change the name of \"work_interfere\" values\n",
    "mh_df = mh_df.replace({\"work_interfere\":{\"Often\":\"1_Often\", \"Sometimes\":\"2_Sometimes\", \n",
    "                                \"Rarely\":\"3_Rarely\", \"Never\":\"4_Never\", \"No Answer\":\"5_No Answer\"}})      "
   ]
  },
  {
   "cell_type": "code",
   "execution_count": 11,
   "id": "37ed3111",
   "metadata": {},
   "outputs": [],
   "source": [
    "# TODO: Num rows/columns, feature names on mental health dataset"
   ]
  },
  {
   "cell_type": "code",
   "execution_count": 12,
   "id": "956b4bbe",
   "metadata": {},
   "outputs": [
    {
     "name": "stdout",
     "output_type": "stream",
     "text": [
      "Yes    632\n",
      "No     619\n",
      "Name: treatment, dtype: int64\n",
      "1_Often        140\n",
      "2_Sometimes    464\n",
      "3_Rarely       173\n",
      "4_Never        212\n",
      "5_No Answer    262\n",
      "Name: work_interfere, dtype: int64\n"
     ]
    }
   ],
   "source": [
    "# TODO: Distribution of the target variable\n",
    "# Distribution of \"treatment\" (\"Have you sought treatment for a mental health condition?\")\n",
    "print(mh_df[\"treatment\"].value_counts())\n",
    "\n",
    "# Distribution of \"work_interfere\" (\"If you have a mental health condition, do you feel that it interferes with your work?\")\n",
    "print(mh_df[\"work_interfere\"].value_counts().sort_index())\n"
   ]
  },
  {
   "cell_type": "code",
   "execution_count": 13,
   "id": "edc3b16f",
   "metadata": {},
   "outputs": [
    {
     "data": {
      "image/png": "[encoded data removed]",
      "text/plain": [
       "<Figure size 432x288 with 1 Axes>"
      ]
     },
     "metadata": {
      "needs_background": "light"
     },
     "output_type": "display_data"
    }
   ],
   "source": [
    "from matplotlib import pyplot as plt\n",
    "\n",
    "work_interfere = mh_df[\"work_interfere\"].value_counts().sort_index()\n",
    "plt.bar(work_interfere.index, work_interfere.values, color=\"blue\")\n",
    "plt.xlabel(\"work_interfere\")\n",
    "plt.ylabel(\"Number of respondents\")\n",
    "plt.show()"
   ]
  },
  {
   "cell_type": "code",
   "execution_count": 39,
   "id": "3476435a",
   "metadata": {},
   "outputs": [
    {
     "data": {
      "text/plain": [
       "<matplotlib.legend.Legend at 0x103e0d0>"
      ]
     },
     "execution_count": 39,
     "metadata": {},
     "output_type": "execute_result"
    },
    {
     "data": {
      "image/png": "[encoded data removed]",
      "text/plain": [
       "<Figure size 432x288 with 1 Axes>"
      ]
     },
     "metadata": {
      "needs_background": "light"
     },
     "output_type": "display_data"
    }
   ],
   "source": [
    "cross = pd.crosstab(mh_df[\"treatment\"],mh_df[\"work_interfere\"])\n",
    "cross.plot.bar(stacked=True, color={\"1_Often\": \"navy\", \"2_Sometimes\": \"blue\", \n",
    "                                    \"3_Rarely\": \"lightsteelblue\", \"4_Never\": \"lavender\",\n",
    "                                   \"5_No Answer\":\"Gray\"})\n",
    "plt.xlabel(\"Treatment\")\n",
    "plt.ylabel(\"Number of respondents\")\n",
    "plt.legend(loc=\"upper left\", fontsize=10)"
   ]
  },
  {
   "cell_type": "code",
   "execution_count": 15,
   "id": "93bb25f2",
   "metadata": {},
   "outputs": [],
   "source": [
    "# TODO: Correlation(relationship) between the target variable and the other features"
   ]
  },
  {
   "cell_type": "code",
   "execution_count": null,
   "id": "e08b029f",
   "metadata": {},
   "outputs": [],
   "source": []
  }
 ],
 "metadata": {
  "kernelspec": {
   "display_name": "Python 3 (ipykernel)",
   "language": "python",
   "name": "python3"
  },
  "language_info": {
   "codemirror_mode": {
    "name": "ipython",
    "version": 3
   },
   "file_extension": ".py",
   "mimetype": "text/x-python",
   "name": "python",
   "nbconvert_exporter": "python",
   "pygments_lexer": "ipython3",
   "version": "3.8.1"
  }
 },
 "nbformat": 4,
 "nbformat_minor": 5
}
