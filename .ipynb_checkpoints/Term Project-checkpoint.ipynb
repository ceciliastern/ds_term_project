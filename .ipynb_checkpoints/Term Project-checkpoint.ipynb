{
 "cells": [
  {
   "cell_type": "code",
   "execution_count": null,
   "id": "48036609",
   "metadata": {},
   "outputs": [],
   "source": [
    "# TODO: Import data set\n",
    "import pandas as pd\n",
    "mental_health_data = pd.read_csv(\"/data/survey.csv\")"
   ]
  },
  {
   "cell_type": "code",
   "execution_count": null,
   "id": "1071cdbb",
   "metadata": {},
   "outputs": [],
   "source": [
    "# TODO: Cleaning"
   ]
  },
  {
   "cell_type": "code",
   "execution_count": null,
   "id": "856d568f",
   "metadata": {},
   "outputs": [],
   "source": [
    "# TODO: Num rows/columns, feature names on mental health dataset"
   ]
  },
  {
   "cell_type": "code",
   "execution_count": null,
   "id": "5b918d4e",
   "metadata": {},
   "outputs": [],
   "source": [
    "# TODO: Distribution of the target variable"
   ]
  },
  {
   "cell_type": "code",
   "execution_count": null,
   "id": "80558f84",
   "metadata": {},
   "outputs": [],
   "source": [
    "# TODO: Correlation(relationship) between the target variable and the other features"
   ]
  },
  {
   "cell_type": "code",
   "execution_count": null,
   "id": "1b08244e",
   "metadata": {},
   "outputs": [],
   "source": []
  }
 ],
 "metadata": {
  "kernelspec": {
   "display_name": "Python 3 (ipykernel)",
   "language": "python",
   "name": "python3"
  },
  "language_info": {
   "codemirror_mode": {
    "name": "ipython",
    "version": 3
   },
   "file_extension": ".py",
   "mimetype": "text/x-python",
   "name": "python",
   "nbconvert_exporter": "python",
   "pygments_lexer": "ipython3",
   "version": "3.8.8"
  }
 },
 "nbformat": 4,
 "nbformat_minor": 5
}
